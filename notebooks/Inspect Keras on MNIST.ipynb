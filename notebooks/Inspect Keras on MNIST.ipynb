{
 "cells": [
  {
   "cell_type": "markdown",
   "id": "bd2f3262",
   "metadata": {},
   "source": [
    "# Import"
   ]
  },
  {
   "cell_type": "code",
   "execution_count": 1,
   "id": "0ab91cc7",
   "metadata": {},
   "outputs": [],
   "source": [
    "import mlflow\n",
    "import mlflow.keras\n",
    "import mlflow.tensorflow\n",
    "\n",
    "import numpy as np\n",
    "import tensorflow\n",
    "import tensorflow as tf\n",
    "\n",
    "from tensorflow.keras.models import Sequential\n",
    "from tensorflow.keras.layers import Dense, Dropout\n",
    "from tensorflow.keras.optimizers import RMSprop"
   ]
  },
  {
   "cell_type": "markdown",
   "id": "de65e31f",
   "metadata": {},
   "source": [
    "# Setup"
   ]
  },
  {
   "cell_type": "code",
   "execution_count": 2,
   "id": "0b953884",
   "metadata": {},
   "outputs": [],
   "source": [
    "mlflow.set_tracking_uri('http://0.0.0.0:5000')\n",
    "\n",
    "class MlFlowModelCheckpoint(tensorflow.keras.callbacks.ModelCheckpoint):\n",
    "    def __init__(self, artifact_name, *args, **kwargs):\n",
    "        super().__init__(*args, **kwargs)\n",
    "        self.artifact_name = artifact_name\n",
    "\n",
    "    def _save_model(self, epoch, batch, logs):\n",
    "        super()._save_model(epoch, batch, logs)\n",
    "        mlflow.keras.log_model(self.model, self.artifact_name)\n",
    "\n",
    "model_checkpoint_callback = MlFlowModelCheckpoint(\n",
    "    artifact_name='best_model',\n",
    "    filepath='../data/checkpoints/best_model.h5',\n",
    "    save_weights_only=False,\n",
    "    monitor='val_loss',\n",
    "    mode='min',\n",
    "    save_best_only=True)\n",
    "\n",
    "params = dict(\n",
    "    batch_size = 128,\n",
    "    num_classes = 10,\n",
    "    epochs = 200,\n",
    ")\n",
    "\n",
    "(x_train, y_train), (x_test, y_test) = tf.keras.datasets.mnist.load_data()\n",
    "x_train = x_train.reshape(60000, 784)\n",
    "x_test = x_test.reshape(10000, 784)\n",
    "x_train = x_train.astype('float32')\n",
    "x_test = x_test.astype('float32')\n",
    "x_train /= 255\n",
    "x_test /= 255\n",
    "y_train = tf.keras.utils.to_categorical(y_train, params['num_classes'])\n",
    "y_test = tf.keras.utils.to_categorical(y_test, params['num_classes'])"
   ]
  },
  {
   "cell_type": "markdown",
   "id": "0c1858bb",
   "metadata": {},
   "source": [
    "# Run"
   ]
  },
  {
   "cell_type": "code",
   "execution_count": 3,
   "id": "8e63da2e",
   "metadata": {},
   "outputs": [
    {
     "name": "stderr",
     "output_type": "stream",
     "text": [
      "2022-05-30 00:14:44.457655: I tensorflow/core/platform/cpu_feature_guard.cc:193] This TensorFlow binary is optimized with oneAPI Deep Neural Network Library (oneDNN) to use the following CPU instructions in performance-critical operations:  AVX2 FMA\n",
      "To enable them in other operations, rebuild TensorFlow with the appropriate compiler flags.\n"
     ]
    },
    {
     "name": "stdout",
     "output_type": "stream",
     "text": [
      "Epoch 1/200\n",
      "  6/469 [..............................] - ETA: 5s - loss: 2.3633 - accuracy: 0.0820  WARNING:tensorflow:Callback method `on_train_batch_end` is slow compared to the batch time (batch time: 0.0102s vs `on_train_batch_end` time: 0.0206s). Check your callbacks.\n",
      "469/469 [==============================] - ETA: 0s - loss: 2.3785 - accuracy: 0.0765INFO:tensorflow:Assets written to: /var/folders/90/kskh3wbj04d1cp3_crkb9cgr0000gn/T/tmpdxkf8b3_/model/data/model/assets\n",
      "469/469 [==============================] - 18s 37ms/step - loss: 2.3785 - accuracy: 0.0765 - val_loss: 2.3587 - val_accuracy: 0.0815\n",
      "Epoch 2/200\n",
      "466/469 [============================>.] - ETA: 0s - loss: 2.3745 - accuracy: 0.0798INFO:tensorflow:Assets written to: /var/folders/90/kskh3wbj04d1cp3_crkb9cgr0000gn/T/tmpxv44ojwp/model/data/model/assets\n",
      "469/469 [==============================] - 16s 34ms/step - loss: 2.3746 - accuracy: 0.0797 - val_loss: 2.3546 - val_accuracy: 0.0834\n",
      "Epoch 3/200\n",
      "466/469 [============================>.] - ETA: 0s - loss: 2.3711 - accuracy: 0.0807INFO:tensorflow:Assets written to: /var/folders/90/kskh3wbj04d1cp3_crkb9cgr0000gn/T/tmp5f4vrg4n/model/data/model/assets\n",
      "469/469 [==============================] - 17s 37ms/step - loss: 2.3712 - accuracy: 0.0806 - val_loss: 2.3505 - val_accuracy: 0.0850\n",
      "Epoch 4/200\n",
      "465/469 [============================>.] - ETA: 0s - loss: 2.3657 - accuracy: 0.0832INFO:tensorflow:Assets written to: /var/folders/90/kskh3wbj04d1cp3_crkb9cgr0000gn/T/tmpgpwr3_8a/model/data/model/assets\n",
      "469/469 [==============================] - 15s 33ms/step - loss: 2.3657 - accuracy: 0.0832 - val_loss: 2.3464 - val_accuracy: 0.0861\n",
      "Epoch 5/200\n",
      "468/469 [============================>.] - ETA: 0s - loss: 2.3630 - accuracy: 0.0821INFO:tensorflow:Assets written to: /var/folders/90/kskh3wbj04d1cp3_crkb9cgr0000gn/T/tmp91ep3k7_/model/data/model/assets\n",
      "469/469 [==============================] - 16s 34ms/step - loss: 2.3630 - accuracy: 0.0821 - val_loss: 2.3425 - val_accuracy: 0.0889\n",
      "Epoch 6/200\n",
      "468/469 [============================>.] - ETA: 0s - loss: 2.3587 - accuracy: 0.0853INFO:tensorflow:Assets written to: /var/folders/90/kskh3wbj04d1cp3_crkb9cgr0000gn/T/tmphwktda4y/model/data/model/assets\n",
      "469/469 [==============================] - 15s 31ms/step - loss: 2.3588 - accuracy: 0.0852 - val_loss: 2.3385 - val_accuracy: 0.0912\n",
      "Epoch 7/200\n",
      "466/469 [============================>.] - ETA: 0s - loss: 2.3547 - accuracy: 0.0878INFO:tensorflow:Assets written to: /var/folders/90/kskh3wbj04d1cp3_crkb9cgr0000gn/T/tmpyhl9af5s/model/data/model/assets\n",
      "469/469 [==============================] - 18s 38ms/step - loss: 2.3545 - accuracy: 0.0878 - val_loss: 2.3346 - val_accuracy: 0.0935\n",
      "Epoch 8/200\n",
      "469/469 [==============================] - ETA: 0s - loss: 2.3515 - accuracy: 0.0877INFO:tensorflow:Assets written to: /var/folders/90/kskh3wbj04d1cp3_crkb9cgr0000gn/T/tmp9l41ayly/model/data/model/assets\n",
      "469/469 [==============================] - 19s 41ms/step - loss: 2.3515 - accuracy: 0.0877 - val_loss: 2.3308 - val_accuracy: 0.0975\n",
      "Epoch 9/200\n",
      "466/469 [============================>.] - ETA: 0s - loss: 2.3468 - accuracy: 0.0896INFO:tensorflow:Assets written to: /var/folders/90/kskh3wbj04d1cp3_crkb9cgr0000gn/T/tmp2pooe6gg/model/data/model/assets\n",
      "469/469 [==============================] - 19s 41ms/step - loss: 2.3469 - accuracy: 0.0896 - val_loss: 2.3269 - val_accuracy: 0.1004\n",
      "Epoch 10/200\n",
      "469/469 [==============================] - ETA: 0s - loss: 2.3428 - accuracy: 0.0926INFO:tensorflow:Assets written to: /var/folders/90/kskh3wbj04d1cp3_crkb9cgr0000gn/T/tmpno_hmbk3/model/data/model/assets\n",
      "469/469 [==============================] - 19s 40ms/step - loss: 2.3428 - accuracy: 0.0926 - val_loss: 2.3232 - val_accuracy: 0.1023\n",
      "Epoch 11/200\n",
      "465/469 [============================>.] - ETA: 0s - loss: 2.3404 - accuracy: 0.0937INFO:tensorflow:Assets written to: /var/folders/90/kskh3wbj04d1cp3_crkb9cgr0000gn/T/tmpumcb6qoi/model/data/model/assets\n"
     ]
    },
    {
     "name": "stderr",
     "output_type": "stream",
     "text": [
      "2022/05/30 00:17:55 WARNING mlflow.models.model: Logging model metadata to the tracking server has failed, possibly due older server version. The model artifacts have been logged successfully under file:data/mlflow-artifacts/0/3ed5405677b44432b57a94a9e58ced68/artifacts. In addition to exporting model artifacts, MLflow clients 1.7.0 and above attempt to record model metadata to the tracking store. If logging to a mlflow server via REST, consider upgrading the server version to MLflow 1.7.0 or above.\n"
     ]
    },
    {
     "name": "stdout",
     "output_type": "stream",
     "text": [
      "469/469 [==============================] - 18s 39ms/step - loss: 2.3403 - accuracy: 0.0936 - val_loss: 2.3194 - val_accuracy: 0.1063\n",
      "Epoch 12/200\n",
      "467/469 [============================>.] - ETA: 0s - loss: 2.3373 - accuracy: 0.0950INFO:tensorflow:Assets written to: /var/folders/90/kskh3wbj04d1cp3_crkb9cgr0000gn/T/tmps_rw1tqn/model/data/model/assets\n"
     ]
    },
    {
     "name": "stderr",
     "output_type": "stream",
     "text": [
      "2022/05/30 00:18:13 WARNING mlflow.models.model: Logging model metadata to the tracking server has failed, possibly due older server version. The model artifacts have been logged successfully under file:data/mlflow-artifacts/0/3ed5405677b44432b57a94a9e58ced68/artifacts. In addition to exporting model artifacts, MLflow clients 1.7.0 and above attempt to record model metadata to the tracking store. If logging to a mlflow server via REST, consider upgrading the server version to MLflow 1.7.0 or above.\n"
     ]
    },
    {
     "name": "stdout",
     "output_type": "stream",
     "text": [
      "469/469 [==============================] - 18s 39ms/step - loss: 2.3373 - accuracy: 0.0949 - val_loss: 2.3157 - val_accuracy: 0.1083\n",
      "Epoch 13/200\n",
      "468/469 [============================>.] - ETA: 0s - loss: 2.3317 - accuracy: 0.0981INFO:tensorflow:Assets written to: /var/folders/90/kskh3wbj04d1cp3_crkb9cgr0000gn/T/tmp1p54h7in/model/data/model/assets\n"
     ]
    },
    {
     "name": "stderr",
     "output_type": "stream",
     "text": [
      "2022/05/30 00:18:31 WARNING mlflow.models.model: Logging model metadata to the tracking server has failed, possibly due older server version. The model artifacts have been logged successfully under file:data/mlflow-artifacts/0/3ed5405677b44432b57a94a9e58ced68/artifacts. In addition to exporting model artifacts, MLflow clients 1.7.0 and above attempt to record model metadata to the tracking store. If logging to a mlflow server via REST, consider upgrading the server version to MLflow 1.7.0 or above.\n"
     ]
    },
    {
     "name": "stdout",
     "output_type": "stream",
     "text": [
      "469/469 [==============================] - 18s 38ms/step - loss: 2.3317 - accuracy: 0.0981 - val_loss: 2.3120 - val_accuracy: 0.1109\n",
      "Epoch 14/200\n",
      "465/469 [============================>.] - ETA: 0s - loss: 2.3287 - accuracy: 0.0999INFO:tensorflow:Assets written to: /var/folders/90/kskh3wbj04d1cp3_crkb9cgr0000gn/T/tmpljd7cggv/model/data/model/assets\n"
     ]
    },
    {
     "name": "stderr",
     "output_type": "stream",
     "text": [
      "2022/05/30 00:18:49 WARNING mlflow.models.model: Logging model metadata to the tracking server has failed, possibly due older server version. The model artifacts have been logged successfully under file:data/mlflow-artifacts/0/3ed5405677b44432b57a94a9e58ced68/artifacts. In addition to exporting model artifacts, MLflow clients 1.7.0 and above attempt to record model metadata to the tracking store. If logging to a mlflow server via REST, consider upgrading the server version to MLflow 1.7.0 or above.\n"
     ]
    },
    {
     "name": "stdout",
     "output_type": "stream",
     "text": [
      "469/469 [==============================] - 18s 39ms/step - loss: 2.3288 - accuracy: 0.0998 - val_loss: 2.3084 - val_accuracy: 0.1144\n",
      "Epoch 15/200\n",
      "468/469 [============================>.] - ETA: 0s - loss: 2.3261 - accuracy: 0.1004INFO:tensorflow:Assets written to: /var/folders/90/kskh3wbj04d1cp3_crkb9cgr0000gn/T/tmpiybmobz_/model/data/model/assets\n"
     ]
    },
    {
     "name": "stderr",
     "output_type": "stream",
     "text": [
      "2022/05/30 00:19:07 WARNING mlflow.models.model: Logging model metadata to the tracking server has failed, possibly due older server version. The model artifacts have been logged successfully under file:data/mlflow-artifacts/0/3ed5405677b44432b57a94a9e58ced68/artifacts. In addition to exporting model artifacts, MLflow clients 1.7.0 and above attempt to record model metadata to the tracking store. If logging to a mlflow server via REST, consider upgrading the server version to MLflow 1.7.0 or above.\n"
     ]
    },
    {
     "name": "stdout",
     "output_type": "stream",
     "text": [
      "469/469 [==============================] - 18s 39ms/step - loss: 2.3261 - accuracy: 0.1004 - val_loss: 2.3047 - val_accuracy: 0.1164\n",
      "Epoch 16/200\n",
      "465/469 [============================>.] - ETA: 0s - loss: 2.3222 - accuracy: 0.1040INFO:tensorflow:Assets written to: /var/folders/90/kskh3wbj04d1cp3_crkb9cgr0000gn/T/tmpuh869pi8/model/data/model/assets\n"
     ]
    },
    {
     "name": "stderr",
     "output_type": "stream",
     "text": [
      "2022/05/30 00:19:25 WARNING mlflow.models.model: Logging model metadata to the tracking server has failed, possibly due older server version. The model artifacts have been logged successfully under file:data/mlflow-artifacts/0/3ed5405677b44432b57a94a9e58ced68/artifacts. In addition to exporting model artifacts, MLflow clients 1.7.0 and above attempt to record model metadata to the tracking store. If logging to a mlflow server via REST, consider upgrading the server version to MLflow 1.7.0 or above.\n"
     ]
    },
    {
     "name": "stdout",
     "output_type": "stream",
     "text": [
      "469/469 [==============================] - 18s 38ms/step - loss: 2.3221 - accuracy: 0.1041 - val_loss: 2.3011 - val_accuracy: 0.1200\n",
      "Epoch 17/200\n",
      "467/469 [============================>.] - ETA: 0s - loss: 2.3193 - accuracy: 0.1069INFO:tensorflow:Assets written to: /var/folders/90/kskh3wbj04d1cp3_crkb9cgr0000gn/T/tmp5oom5wfu/model/data/model/assets\n"
     ]
    },
    {
     "name": "stderr",
     "output_type": "stream",
     "text": [
      "2022/05/30 00:19:42 WARNING mlflow.models.model: Logging model metadata to the tracking server has failed, possibly due older server version. The model artifacts have been logged successfully under file:data/mlflow-artifacts/0/3ed5405677b44432b57a94a9e58ced68/artifacts. In addition to exporting model artifacts, MLflow clients 1.7.0 and above attempt to record model metadata to the tracking store. If logging to a mlflow server via REST, consider upgrading the server version to MLflow 1.7.0 or above.\n"
     ]
    },
    {
     "name": "stdout",
     "output_type": "stream",
     "text": [
      "469/469 [==============================] - 17s 37ms/step - loss: 2.3192 - accuracy: 0.1070 - val_loss: 2.2976 - val_accuracy: 0.1239\n",
      "Epoch 18/200\n",
      "464/469 [============================>.] - ETA: 0s - loss: 2.3151 - accuracy: 0.1085INFO:tensorflow:Assets written to: /var/folders/90/kskh3wbj04d1cp3_crkb9cgr0000gn/T/tmpufsonhjj/model/data/model/assets\n"
     ]
    },
    {
     "name": "stderr",
     "output_type": "stream",
     "text": [
      "2022/05/30 00:20:00 WARNING mlflow.models.model: Logging model metadata to the tracking server has failed, possibly due older server version. The model artifacts have been logged successfully under file:data/mlflow-artifacts/0/3ed5405677b44432b57a94a9e58ced68/artifacts. In addition to exporting model artifacts, MLflow clients 1.7.0 and above attempt to record model metadata to the tracking store. If logging to a mlflow server via REST, consider upgrading the server version to MLflow 1.7.0 or above.\n"
     ]
    },
    {
     "name": "stdout",
     "output_type": "stream",
     "text": [
      "469/469 [==============================] - 18s 38ms/step - loss: 2.3151 - accuracy: 0.1085 - val_loss: 2.2941 - val_accuracy: 0.1270\n",
      "Epoch 19/200\n",
      "465/469 [============================>.] - ETA: 0s - loss: 2.3116 - accuracy: 0.1099INFO:tensorflow:Assets written to: /var/folders/90/kskh3wbj04d1cp3_crkb9cgr0000gn/T/tmpc04onbii/model/data/model/assets\n"
     ]
    },
    {
     "name": "stderr",
     "output_type": "stream",
     "text": [
      "2022/05/30 00:20:18 WARNING mlflow.models.model: Logging model metadata to the tracking server has failed, possibly due older server version. The model artifacts have been logged successfully under file:data/mlflow-artifacts/0/3ed5405677b44432b57a94a9e58ced68/artifacts. In addition to exporting model artifacts, MLflow clients 1.7.0 and above attempt to record model metadata to the tracking store. If logging to a mlflow server via REST, consider upgrading the server version to MLflow 1.7.0 or above.\n"
     ]
    },
    {
     "name": "stdout",
     "output_type": "stream",
     "text": [
      "469/469 [==============================] - 18s 39ms/step - loss: 2.3115 - accuracy: 0.1099 - val_loss: 2.2905 - val_accuracy: 0.1301\n",
      "Epoch 20/200\n",
      "468/469 [============================>.] - ETA: 0s - loss: 2.3099 - accuracy: 0.1114INFO:tensorflow:Assets written to: /var/folders/90/kskh3wbj04d1cp3_crkb9cgr0000gn/T/tmp8941egh3/model/data/model/assets\n"
     ]
    },
    {
     "name": "stderr",
     "output_type": "stream",
     "text": [
      "2022/05/30 00:20:34 WARNING mlflow.models.model: Logging model metadata to the tracking server has failed, possibly due older server version. The model artifacts have been logged successfully under file:data/mlflow-artifacts/0/3ed5405677b44432b57a94a9e58ced68/artifacts. In addition to exporting model artifacts, MLflow clients 1.7.0 and above attempt to record model metadata to the tracking store. If logging to a mlflow server via REST, consider upgrading the server version to MLflow 1.7.0 or above.\n"
     ]
    },
    {
     "name": "stdout",
     "output_type": "stream",
     "text": [
      "469/469 [==============================] - 16s 34ms/step - loss: 2.3099 - accuracy: 0.1115 - val_loss: 2.2871 - val_accuracy: 0.1338\n",
      "Epoch 21/200\n",
      "467/469 [============================>.] - ETA: 0s - loss: 2.3061 - accuracy: 0.1145INFO:tensorflow:Assets written to: /var/folders/90/kskh3wbj04d1cp3_crkb9cgr0000gn/T/tmphxpxmfvi/model/data/model/assets\n"
     ]
    },
    {
     "name": "stderr",
     "output_type": "stream",
     "text": [
      "2022/05/30 00:20:52 WARNING mlflow.models.model: Logging model metadata to the tracking server has failed, possibly due older server version. The model artifacts have been logged successfully under file:data/mlflow-artifacts/0/3ed5405677b44432b57a94a9e58ced68/artifacts. In addition to exporting model artifacts, MLflow clients 1.7.0 and above attempt to record model metadata to the tracking store. If logging to a mlflow server via REST, consider upgrading the server version to MLflow 1.7.0 or above.\n"
     ]
    },
    {
     "name": "stdout",
     "output_type": "stream",
     "text": [
      "469/469 [==============================] - 18s 38ms/step - loss: 2.3061 - accuracy: 0.1145 - val_loss: 2.2836 - val_accuracy: 0.1364\n",
      "Epoch 22/200\n",
      "465/469 [============================>.] - ETA: 0s - loss: 2.3023 - accuracy: 0.1169INFO:tensorflow:Assets written to: /var/folders/90/kskh3wbj04d1cp3_crkb9cgr0000gn/T/tmphn2sanh4/model/data/model/assets\n"
     ]
    },
    {
     "name": "stderr",
     "output_type": "stream",
     "text": [
      "2022/05/30 00:21:10 WARNING mlflow.models.model: Logging model metadata to the tracking server has failed, possibly due older server version. The model artifacts have been logged successfully under file:data/mlflow-artifacts/0/3ed5405677b44432b57a94a9e58ced68/artifacts. In addition to exporting model artifacts, MLflow clients 1.7.0 and above attempt to record model metadata to the tracking store. If logging to a mlflow server via REST, consider upgrading the server version to MLflow 1.7.0 or above.\n"
     ]
    },
    {
     "name": "stdout",
     "output_type": "stream",
     "text": [
      "469/469 [==============================] - 18s 38ms/step - loss: 2.3025 - accuracy: 0.1166 - val_loss: 2.2801 - val_accuracy: 0.1405\n",
      "Epoch 23/200\n",
      "464/469 [============================>.] - ETA: 0s - loss: 2.3000 - accuracy: 0.1202INFO:tensorflow:Assets written to: /var/folders/90/kskh3wbj04d1cp3_crkb9cgr0000gn/T/tmpucxavofp/model/data/model/assets\n"
     ]
    },
    {
     "name": "stderr",
     "output_type": "stream",
     "text": [
      "2022/05/30 00:21:26 WARNING mlflow.models.model: Logging model metadata to the tracking server has failed, possibly due older server version. The model artifacts have been logged successfully under file:data/mlflow-artifacts/0/3ed5405677b44432b57a94a9e58ced68/artifacts. In addition to exporting model artifacts, MLflow clients 1.7.0 and above attempt to record model metadata to the tracking store. If logging to a mlflow server via REST, consider upgrading the server version to MLflow 1.7.0 or above.\n"
     ]
    },
    {
     "name": "stdout",
     "output_type": "stream",
     "text": [
      "469/469 [==============================] - 16s 34ms/step - loss: 2.3002 - accuracy: 0.1202 - val_loss: 2.2767 - val_accuracy: 0.1449\n",
      "Epoch 24/200\n",
      "466/469 [============================>.] - ETA: 0s - loss: 2.2958 - accuracy: 0.1217INFO:tensorflow:Assets written to: /var/folders/90/kskh3wbj04d1cp3_crkb9cgr0000gn/T/tmptujybswa/model/data/model/assets\n"
     ]
    },
    {
     "name": "stderr",
     "output_type": "stream",
     "text": [
      "2022/05/30 00:21:42 WARNING mlflow.models.model: Logging model metadata to the tracking server has failed, possibly due older server version. The model artifacts have been logged successfully under file:data/mlflow-artifacts/0/3ed5405677b44432b57a94a9e58ced68/artifacts. In addition to exporting model artifacts, MLflow clients 1.7.0 and above attempt to record model metadata to the tracking store. If logging to a mlflow server via REST, consider upgrading the server version to MLflow 1.7.0 or above.\n"
     ]
    },
    {
     "name": "stdout",
     "output_type": "stream",
     "text": [
      "469/469 [==============================] - 16s 34ms/step - loss: 2.2958 - accuracy: 0.1217 - val_loss: 2.2733 - val_accuracy: 0.1494\n",
      "Epoch 25/200\n",
      "465/469 [============================>.] - ETA: 0s - loss: 2.2919 - accuracy: 0.1257INFO:tensorflow:Assets written to: /var/folders/90/kskh3wbj04d1cp3_crkb9cgr0000gn/T/tmpxrd_pr7s/model/data/model/assets\n"
     ]
    },
    {
     "name": "stderr",
     "output_type": "stream",
     "text": [
      "2022/05/30 00:21:58 WARNING mlflow.models.model: Logging model metadata to the tracking server has failed, possibly due older server version. The model artifacts have been logged successfully under file:data/mlflow-artifacts/0/3ed5405677b44432b57a94a9e58ced68/artifacts. In addition to exporting model artifacts, MLflow clients 1.7.0 and above attempt to record model metadata to the tracking store. If logging to a mlflow server via REST, consider upgrading the server version to MLflow 1.7.0 or above.\n"
     ]
    },
    {
     "name": "stdout",
     "output_type": "stream",
     "text": [
      "469/469 [==============================] - 17s 36ms/step - loss: 2.2920 - accuracy: 0.1256 - val_loss: 2.2699 - val_accuracy: 0.1540\n",
      "Epoch 26/200\n",
      "466/469 [============================>.] - ETA: 0s - loss: 2.2892 - accuracy: 0.1272INFO:tensorflow:Assets written to: /var/folders/90/kskh3wbj04d1cp3_crkb9cgr0000gn/T/tmpcxia8vuu/model/data/model/assets\n"
     ]
    },
    {
     "name": "stderr",
     "output_type": "stream",
     "text": [
      "2022/05/30 00:22:17 WARNING mlflow.models.model: Logging model metadata to the tracking server has failed, possibly due older server version. The model artifacts have been logged successfully under file:data/mlflow-artifacts/0/3ed5405677b44432b57a94a9e58ced68/artifacts. In addition to exporting model artifacts, MLflow clients 1.7.0 and above attempt to record model metadata to the tracking store. If logging to a mlflow server via REST, consider upgrading the server version to MLflow 1.7.0 or above.\n"
     ]
    },
    {
     "name": "stdout",
     "output_type": "stream",
     "text": [
      "469/469 [==============================] - 19s 40ms/step - loss: 2.2893 - accuracy: 0.1271 - val_loss: 2.2666 - val_accuracy: 0.1580\n",
      "Epoch 27/200\n",
      "467/469 [============================>.] - ETA: 0s - loss: 2.2869 - accuracy: 0.1272INFO:tensorflow:Assets written to: /var/folders/90/kskh3wbj04d1cp3_crkb9cgr0000gn/T/tmp_23hczfr/model/data/model/assets\n"
     ]
    },
    {
     "name": "stderr",
     "output_type": "stream",
     "text": [
      "2022/05/30 00:22:37 WARNING mlflow.models.model: Logging model metadata to the tracking server has failed, possibly due older server version. The model artifacts have been logged successfully under file:data/mlflow-artifacts/0/3ed5405677b44432b57a94a9e58ced68/artifacts. In addition to exporting model artifacts, MLflow clients 1.7.0 and above attempt to record model metadata to the tracking store. If logging to a mlflow server via REST, consider upgrading the server version to MLflow 1.7.0 or above.\n"
     ]
    },
    {
     "name": "stdout",
     "output_type": "stream",
     "text": [
      "469/469 [==============================] - 20s 43ms/step - loss: 2.2869 - accuracy: 0.1273 - val_loss: 2.2632 - val_accuracy: 0.1618\n",
      "Epoch 28/200\n",
      "467/469 [============================>.] - ETA: 0s - loss: 2.2830 - accuracy: 0.1325INFO:tensorflow:Assets written to: /var/folders/90/kskh3wbj04d1cp3_crkb9cgr0000gn/T/tmpump7imxg/model/data/model/assets\n"
     ]
    },
    {
     "name": "stderr",
     "output_type": "stream",
     "text": [
      "2022/05/30 00:22:57 WARNING mlflow.models.model: Logging model metadata to the tracking server has failed, possibly due older server version. The model artifacts have been logged successfully under file:data/mlflow-artifacts/0/3ed5405677b44432b57a94a9e58ced68/artifacts. In addition to exporting model artifacts, MLflow clients 1.7.0 and above attempt to record model metadata to the tracking store. If logging to a mlflow server via REST, consider upgrading the server version to MLflow 1.7.0 or above.\n"
     ]
    },
    {
     "name": "stdout",
     "output_type": "stream",
     "text": [
      "469/469 [==============================] - 20s 42ms/step - loss: 2.2829 - accuracy: 0.1324 - val_loss: 2.2599 - val_accuracy: 0.1657\n",
      "Epoch 29/200\n",
      "466/469 [============================>.] - ETA: 0s - loss: 2.2794 - accuracy: 0.1344INFO:tensorflow:Assets written to: /var/folders/90/kskh3wbj04d1cp3_crkb9cgr0000gn/T/tmpgztc381r/model/data/model/assets\n"
     ]
    },
    {
     "name": "stderr",
     "output_type": "stream",
     "text": [
      "2022/05/30 00:23:17 WARNING mlflow.models.model: Logging model metadata to the tracking server has failed, possibly due older server version. The model artifacts have been logged successfully under file:data/mlflow-artifacts/0/3ed5405677b44432b57a94a9e58ced68/artifacts. In addition to exporting model artifacts, MLflow clients 1.7.0 and above attempt to record model metadata to the tracking store. If logging to a mlflow server via REST, consider upgrading the server version to MLflow 1.7.0 or above.\n"
     ]
    },
    {
     "name": "stdout",
     "output_type": "stream",
     "text": [
      "469/469 [==============================] - 20s 42ms/step - loss: 2.2795 - accuracy: 0.1344 - val_loss: 2.2566 - val_accuracy: 0.1714\n",
      "Epoch 30/200\n",
      "465/469 [============================>.] - ETA: 0s - loss: 2.2761 - accuracy: 0.1398INFO:tensorflow:Assets written to: /var/folders/90/kskh3wbj04d1cp3_crkb9cgr0000gn/T/tmpag2aeofx/model/data/model/assets\n"
     ]
    },
    {
     "name": "stderr",
     "output_type": "stream",
     "text": [
      "2022/05/30 00:23:33 WARNING mlflow.models.model: Logging model metadata to the tracking server has failed, possibly due older server version. The model artifacts have been logged successfully under file:data/mlflow-artifacts/0/3ed5405677b44432b57a94a9e58ced68/artifacts. In addition to exporting model artifacts, MLflow clients 1.7.0 and above attempt to record model metadata to the tracking store. If logging to a mlflow server via REST, consider upgrading the server version to MLflow 1.7.0 or above.\n"
     ]
    },
    {
     "name": "stdout",
     "output_type": "stream",
     "text": [
      "469/469 [==============================] - 16s 35ms/step - loss: 2.2762 - accuracy: 0.1396 - val_loss: 2.2533 - val_accuracy: 0.1767\n",
      "Epoch 31/200\n",
      "465/469 [============================>.] - ETA: 0s - loss: 2.2746 - accuracy: 0.1391INFO:tensorflow:Assets written to: /var/folders/90/kskh3wbj04d1cp3_crkb9cgr0000gn/T/tmpz8zx8_u2/model/data/model/assets\n"
     ]
    },
    {
     "name": "stderr",
     "output_type": "stream",
     "text": [
      "2022/05/30 00:23:51 WARNING mlflow.models.model: Logging model metadata to the tracking server has failed, possibly due older server version. The model artifacts have been logged successfully under file:data/mlflow-artifacts/0/3ed5405677b44432b57a94a9e58ced68/artifacts. In addition to exporting model artifacts, MLflow clients 1.7.0 and above attempt to record model metadata to the tracking store. If logging to a mlflow server via REST, consider upgrading the server version to MLflow 1.7.0 or above.\n"
     ]
    },
    {
     "name": "stdout",
     "output_type": "stream",
     "text": [
      "469/469 [==============================] - 18s 39ms/step - loss: 2.2746 - accuracy: 0.1391 - val_loss: 2.2500 - val_accuracy: 0.1840\n",
      "Epoch 32/200\n",
      "468/469 [============================>.] - ETA: 0s - loss: 2.2704 - accuracy: 0.1454INFO:tensorflow:Assets written to: /var/folders/90/kskh3wbj04d1cp3_crkb9cgr0000gn/T/tmprz_v71ti/model/data/model/assets\n"
     ]
    },
    {
     "name": "stderr",
     "output_type": "stream",
     "text": [
      "2022/05/30 00:24:06 WARNING mlflow.models.model: Logging model metadata to the tracking server has failed, possibly due older server version. The model artifacts have been logged successfully under file:data/mlflow-artifacts/0/3ed5405677b44432b57a94a9e58ced68/artifacts. In addition to exporting model artifacts, MLflow clients 1.7.0 and above attempt to record model metadata to the tracking store. If logging to a mlflow server via REST, consider upgrading the server version to MLflow 1.7.0 or above.\n"
     ]
    },
    {
     "name": "stdout",
     "output_type": "stream",
     "text": [
      "469/469 [==============================] - 15s 33ms/step - loss: 2.2704 - accuracy: 0.1454 - val_loss: 2.2468 - val_accuracy: 0.1884\n",
      "Epoch 33/200\n",
      "464/469 [============================>.] - ETA: 0s - loss: 2.2674 - accuracy: 0.1475INFO:tensorflow:Assets written to: /var/folders/90/kskh3wbj04d1cp3_crkb9cgr0000gn/T/tmpgizi7wt5/model/data/model/assets\n"
     ]
    },
    {
     "name": "stderr",
     "output_type": "stream",
     "text": [
      "2022/05/30 00:24:22 WARNING mlflow.models.model: Logging model metadata to the tracking server has failed, possibly due older server version. The model artifacts have been logged successfully under file:data/mlflow-artifacts/0/3ed5405677b44432b57a94a9e58ced68/artifacts. In addition to exporting model artifacts, MLflow clients 1.7.0 and above attempt to record model metadata to the tracking store. If logging to a mlflow server via REST, consider upgrading the server version to MLflow 1.7.0 or above.\n"
     ]
    },
    {
     "name": "stdout",
     "output_type": "stream",
     "text": [
      "469/469 [==============================] - 15s 33ms/step - loss: 2.2672 - accuracy: 0.1476 - val_loss: 2.2435 - val_accuracy: 0.1931\n",
      "Epoch 34/200\n",
      "469/469 [==============================] - ETA: 0s - loss: 2.2658 - accuracy: 0.1496INFO:tensorflow:Assets written to: /var/folders/90/kskh3wbj04d1cp3_crkb9cgr0000gn/T/tmphaqhrpua/model/data/model/assets\n"
     ]
    },
    {
     "name": "stderr",
     "output_type": "stream",
     "text": [
      "2022/05/30 00:24:41 WARNING mlflow.models.model: Logging model metadata to the tracking server has failed, possibly due older server version. The model artifacts have been logged successfully under file:data/mlflow-artifacts/0/3ed5405677b44432b57a94a9e58ced68/artifacts. In addition to exporting model artifacts, MLflow clients 1.7.0 and above attempt to record model metadata to the tracking store. If logging to a mlflow server via REST, consider upgrading the server version to MLflow 1.7.0 or above.\n"
     ]
    },
    {
     "name": "stdout",
     "output_type": "stream",
     "text": [
      "469/469 [==============================] - 19s 41ms/step - loss: 2.2658 - accuracy: 0.1496 - val_loss: 2.2403 - val_accuracy: 0.1987\n",
      "Epoch 35/200\n",
      "469/469 [==============================] - ETA: 0s - loss: 2.2613 - accuracy: 0.1534INFO:tensorflow:Assets written to: /var/folders/90/kskh3wbj04d1cp3_crkb9cgr0000gn/T/tmpas1hw8um/model/data/model/assets\n"
     ]
    },
    {
     "name": "stderr",
     "output_type": "stream",
     "text": [
      "2022/05/30 00:25:00 WARNING mlflow.models.model: Logging model metadata to the tracking server has failed, possibly due older server version. The model artifacts have been logged successfully under file:data/mlflow-artifacts/0/3ed5405677b44432b57a94a9e58ced68/artifacts. In addition to exporting model artifacts, MLflow clients 1.7.0 and above attempt to record model metadata to the tracking store. If logging to a mlflow server via REST, consider upgrading the server version to MLflow 1.7.0 or above.\n"
     ]
    },
    {
     "name": "stdout",
     "output_type": "stream",
     "text": [
      "469/469 [==============================] - 19s 40ms/step - loss: 2.2613 - accuracy: 0.1534 - val_loss: 2.2370 - val_accuracy: 0.2035\n",
      "Epoch 36/200\n",
      "467/469 [============================>.] - ETA: 0s - loss: 2.2588 - accuracy: 0.1566INFO:tensorflow:Assets written to: /var/folders/90/kskh3wbj04d1cp3_crkb9cgr0000gn/T/tmpiaq4bgqr/model/data/model/assets\n"
     ]
    },
    {
     "name": "stderr",
     "output_type": "stream",
     "text": [
      "2022/05/30 00:25:20 WARNING mlflow.models.model: Logging model metadata to the tracking server has failed, possibly due older server version. The model artifacts have been logged successfully under file:data/mlflow-artifacts/0/3ed5405677b44432b57a94a9e58ced68/artifacts. In addition to exporting model artifacts, MLflow clients 1.7.0 and above attempt to record model metadata to the tracking store. If logging to a mlflow server via REST, consider upgrading the server version to MLflow 1.7.0 or above.\n"
     ]
    },
    {
     "name": "stdout",
     "output_type": "stream",
     "text": [
      "469/469 [==============================] - 20s 43ms/step - loss: 2.2587 - accuracy: 0.1566 - val_loss: 2.2338 - val_accuracy: 0.2097\n",
      "Epoch 37/200\n",
      "465/469 [============================>.] - ETA: 0s - loss: 2.2556 - accuracy: 0.1582INFO:tensorflow:Assets written to: /var/folders/90/kskh3wbj04d1cp3_crkb9cgr0000gn/T/tmpo_vqi9ix/model/data/model/assets\n"
     ]
    },
    {
     "name": "stderr",
     "output_type": "stream",
     "text": [
      "2022/05/30 00:25:37 WARNING mlflow.models.model: Logging model metadata to the tracking server has failed, possibly due older server version. The model artifacts have been logged successfully under file:data/mlflow-artifacts/0/3ed5405677b44432b57a94a9e58ced68/artifacts. In addition to exporting model artifacts, MLflow clients 1.7.0 and above attempt to record model metadata to the tracking store. If logging to a mlflow server via REST, consider upgrading the server version to MLflow 1.7.0 or above.\n"
     ]
    },
    {
     "name": "stdout",
     "output_type": "stream",
     "text": [
      "469/469 [==============================] - 17s 36ms/step - loss: 2.2555 - accuracy: 0.1581 - val_loss: 2.2306 - val_accuracy: 0.2150\n",
      "Epoch 38/200\n",
      "469/469 [==============================] - ETA: 0s - loss: 2.2527 - accuracy: 0.1631INFO:tensorflow:Assets written to: /var/folders/90/kskh3wbj04d1cp3_crkb9cgr0000gn/T/tmpzkk23xf9/model/data/model/assets\n"
     ]
    },
    {
     "name": "stderr",
     "output_type": "stream",
     "text": [
      "2022/05/30 00:25:54 WARNING mlflow.models.model: Logging model metadata to the tracking server has failed, possibly due older server version. The model artifacts have been logged successfully under file:data/mlflow-artifacts/0/3ed5405677b44432b57a94a9e58ced68/artifacts. In addition to exporting model artifacts, MLflow clients 1.7.0 and above attempt to record model metadata to the tracking store. If logging to a mlflow server via REST, consider upgrading the server version to MLflow 1.7.0 or above.\n"
     ]
    },
    {
     "name": "stdout",
     "output_type": "stream",
     "text": [
      "469/469 [==============================] - 17s 37ms/step - loss: 2.2527 - accuracy: 0.1631 - val_loss: 2.2275 - val_accuracy: 0.2207\n",
      "Epoch 39/200\n",
      "466/469 [============================>.] - ETA: 0s - loss: 2.2496 - accuracy: 0.1661INFO:tensorflow:Assets written to: /var/folders/90/kskh3wbj04d1cp3_crkb9cgr0000gn/T/tmpzmkrthqn/model/data/model/assets\n"
     ]
    },
    {
     "name": "stderr",
     "output_type": "stream",
     "text": [
      "2022/05/30 00:26:12 WARNING mlflow.models.model: Logging model metadata to the tracking server has failed, possibly due older server version. The model artifacts have been logged successfully under file:data/mlflow-artifacts/0/3ed5405677b44432b57a94a9e58ced68/artifacts. In addition to exporting model artifacts, MLflow clients 1.7.0 and above attempt to record model metadata to the tracking store. If logging to a mlflow server via REST, consider upgrading the server version to MLflow 1.7.0 or above.\n"
     ]
    },
    {
     "name": "stdout",
     "output_type": "stream",
     "text": [
      "469/469 [==============================] - 18s 38ms/step - loss: 2.2495 - accuracy: 0.1663 - val_loss: 2.2243 - val_accuracy: 0.2255\n",
      "Epoch 40/200\n",
      "468/469 [============================>.] - ETA: 0s - loss: 2.2468 - accuracy: 0.1703INFO:tensorflow:Assets written to: /var/folders/90/kskh3wbj04d1cp3_crkb9cgr0000gn/T/tmppci5d2oh/model/data/model/assets\n"
     ]
    },
    {
     "name": "stderr",
     "output_type": "stream",
     "text": [
      "2022/05/30 00:26:27 WARNING mlflow.models.model: Logging model metadata to the tracking server has failed, possibly due older server version. The model artifacts have been logged successfully under file:data/mlflow-artifacts/0/3ed5405677b44432b57a94a9e58ced68/artifacts. In addition to exporting model artifacts, MLflow clients 1.7.0 and above attempt to record model metadata to the tracking store. If logging to a mlflow server via REST, consider upgrading the server version to MLflow 1.7.0 or above.\n"
     ]
    },
    {
     "name": "stdout",
     "output_type": "stream",
     "text": [
      "469/469 [==============================] - 15s 32ms/step - loss: 2.2468 - accuracy: 0.1703 - val_loss: 2.2211 - val_accuracy: 0.2296\n",
      "Epoch 41/200\n",
      "467/469 [============================>.] - ETA: 0s - loss: 2.2424 - accuracy: 0.1735INFO:tensorflow:Assets written to: /var/folders/90/kskh3wbj04d1cp3_crkb9cgr0000gn/T/tmpjzpdyd5z/model/data/model/assets\n"
     ]
    },
    {
     "name": "stderr",
     "output_type": "stream",
     "text": [
      "2022/05/30 00:26:41 WARNING mlflow.models.model: Logging model metadata to the tracking server has failed, possibly due older server version. The model artifacts have been logged successfully under file:data/mlflow-artifacts/0/3ed5405677b44432b57a94a9e58ced68/artifacts. In addition to exporting model artifacts, MLflow clients 1.7.0 and above attempt to record model metadata to the tracking store. If logging to a mlflow server via REST, consider upgrading the server version to MLflow 1.7.0 or above.\n"
     ]
    },
    {
     "name": "stdout",
     "output_type": "stream",
     "text": [
      "469/469 [==============================] - 14s 30ms/step - loss: 2.2423 - accuracy: 0.1736 - val_loss: 2.2180 - val_accuracy: 0.2350\n",
      "Epoch 42/200\n",
      "469/469 [==============================] - ETA: 0s - loss: 2.2385 - accuracy: 0.1766INFO:tensorflow:Assets written to: /var/folders/90/kskh3wbj04d1cp3_crkb9cgr0000gn/T/tmpbq3q3l33/model/data/model/assets\n"
     ]
    },
    {
     "name": "stderr",
     "output_type": "stream",
     "text": [
      "2022/05/30 00:26:55 WARNING mlflow.models.model: Logging model metadata to the tracking server has failed, possibly due older server version. The model artifacts have been logged successfully under file:data/mlflow-artifacts/0/3ed5405677b44432b57a94a9e58ced68/artifacts. In addition to exporting model artifacts, MLflow clients 1.7.0 and above attempt to record model metadata to the tracking store. If logging to a mlflow server via REST, consider upgrading the server version to MLflow 1.7.0 or above.\n"
     ]
    },
    {
     "name": "stdout",
     "output_type": "stream",
     "text": [
      "469/469 [==============================] - 14s 30ms/step - loss: 2.2385 - accuracy: 0.1766 - val_loss: 2.2148 - val_accuracy: 0.2413\n",
      "Epoch 43/200\n",
      "466/469 [============================>.] - ETA: 0s - loss: 2.2368 - accuracy: 0.1783INFO:tensorflow:Assets written to: /var/folders/90/kskh3wbj04d1cp3_crkb9cgr0000gn/T/tmp7vcawt8y/model/data/model/assets\n"
     ]
    },
    {
     "name": "stderr",
     "output_type": "stream",
     "text": [
      "2022/05/30 00:27:11 WARNING mlflow.models.model: Logging model metadata to the tracking server has failed, possibly due older server version. The model artifacts have been logged successfully under file:data/mlflow-artifacts/0/3ed5405677b44432b57a94a9e58ced68/artifacts. In addition to exporting model artifacts, MLflow clients 1.7.0 and above attempt to record model metadata to the tracking store. If logging to a mlflow server via REST, consider upgrading the server version to MLflow 1.7.0 or above.\n"
     ]
    },
    {
     "name": "stdout",
     "output_type": "stream",
     "text": [
      "469/469 [==============================] - 16s 34ms/step - loss: 2.2368 - accuracy: 0.1782 - val_loss: 2.2117 - val_accuracy: 0.2472\n",
      "Epoch 44/200\n",
      "466/469 [============================>.] - ETA: 0s - loss: 2.2349 - accuracy: 0.1813INFO:tensorflow:Assets written to: /var/folders/90/kskh3wbj04d1cp3_crkb9cgr0000gn/T/tmpou404242/model/data/model/assets\n"
     ]
    },
    {
     "name": "stderr",
     "output_type": "stream",
     "text": [
      "2022/05/30 00:27:28 WARNING mlflow.models.model: Logging model metadata to the tracking server has failed, possibly due older server version. The model artifacts have been logged successfully under file:data/mlflow-artifacts/0/3ed5405677b44432b57a94a9e58ced68/artifacts. In addition to exporting model artifacts, MLflow clients 1.7.0 and above attempt to record model metadata to the tracking store. If logging to a mlflow server via REST, consider upgrading the server version to MLflow 1.7.0 or above.\n"
     ]
    },
    {
     "name": "stdout",
     "output_type": "stream",
     "text": [
      "469/469 [==============================] - 17s 37ms/step - loss: 2.2349 - accuracy: 0.1813 - val_loss: 2.2086 - val_accuracy: 0.2526\n",
      "Epoch 45/200\n",
      "465/469 [============================>.] - ETA: 0s - loss: 2.2318 - accuracy: 0.1842INFO:tensorflow:Assets written to: /var/folders/90/kskh3wbj04d1cp3_crkb9cgr0000gn/T/tmpqgdk5j3f/model/data/model/assets\n"
     ]
    },
    {
     "name": "stderr",
     "output_type": "stream",
     "text": [
      "2022/05/30 00:27:48 WARNING mlflow.models.model: Logging model metadata to the tracking server has failed, possibly due older server version. The model artifacts have been logged successfully under file:data/mlflow-artifacts/0/3ed5405677b44432b57a94a9e58ced68/artifacts. In addition to exporting model artifacts, MLflow clients 1.7.0 and above attempt to record model metadata to the tracking store. If logging to a mlflow server via REST, consider upgrading the server version to MLflow 1.7.0 or above.\n"
     ]
    },
    {
     "name": "stdout",
     "output_type": "stream",
     "text": [
      "469/469 [==============================] - 20s 42ms/step - loss: 2.2320 - accuracy: 0.1841 - val_loss: 2.2055 - val_accuracy: 0.2575\n",
      "Epoch 46/200\n",
      "468/469 [============================>.] - ETA: 0s - loss: 2.2277 - accuracy: 0.1895INFO:tensorflow:Assets written to: /var/folders/90/kskh3wbj04d1cp3_crkb9cgr0000gn/T/tmpj27whzag/model/data/model/assets\n"
     ]
    },
    {
     "name": "stderr",
     "output_type": "stream",
     "text": [
      "2022/05/30 00:28:06 WARNING mlflow.models.model: Logging model metadata to the tracking server has failed, possibly due older server version. The model artifacts have been logged successfully under file:data/mlflow-artifacts/0/3ed5405677b44432b57a94a9e58ced68/artifacts. In addition to exporting model artifacts, MLflow clients 1.7.0 and above attempt to record model metadata to the tracking store. If logging to a mlflow server via REST, consider upgrading the server version to MLflow 1.7.0 or above.\n"
     ]
    },
    {
     "name": "stdout",
     "output_type": "stream",
     "text": [
      "469/469 [==============================] - 18s 38ms/step - loss: 2.2277 - accuracy: 0.1895 - val_loss: 2.2024 - val_accuracy: 0.2628\n",
      "Epoch 47/200\n",
      "465/469 [============================>.] - ETA: 0s - loss: 2.2255 - accuracy: 0.1933INFO:tensorflow:Assets written to: /var/folders/90/kskh3wbj04d1cp3_crkb9cgr0000gn/T/tmp_nifmkko/model/data/model/assets\n"
     ]
    },
    {
     "name": "stderr",
     "output_type": "stream",
     "text": [
      "2022/05/30 00:28:28 WARNING mlflow.models.model: Logging model metadata to the tracking server has failed, possibly due older server version. The model artifacts have been logged successfully under file:data/mlflow-artifacts/0/3ed5405677b44432b57a94a9e58ced68/artifacts. In addition to exporting model artifacts, MLflow clients 1.7.0 and above attempt to record model metadata to the tracking store. If logging to a mlflow server via REST, consider upgrading the server version to MLflow 1.7.0 or above.\n"
     ]
    },
    {
     "name": "stdout",
     "output_type": "stream",
     "text": [
      "469/469 [==============================] - 22s 47ms/step - loss: 2.2253 - accuracy: 0.1932 - val_loss: 2.1993 - val_accuracy: 0.2683\n",
      "Epoch 48/200\n",
      "466/469 [============================>.] - ETA: 0s - loss: 2.2227 - accuracy: 0.1954INFO:tensorflow:Assets written to: /var/folders/90/kskh3wbj04d1cp3_crkb9cgr0000gn/T/tmpwe4fy4qj/model/data/model/assets\n"
     ]
    },
    {
     "name": "stderr",
     "output_type": "stream",
     "text": [
      "2022/05/30 00:28:48 WARNING mlflow.models.model: Logging model metadata to the tracking server has failed, possibly due older server version. The model artifacts have been logged successfully under file:data/mlflow-artifacts/0/3ed5405677b44432b57a94a9e58ced68/artifacts. In addition to exporting model artifacts, MLflow clients 1.7.0 and above attempt to record model metadata to the tracking store. If logging to a mlflow server via REST, consider upgrading the server version to MLflow 1.7.0 or above.\n"
     ]
    },
    {
     "name": "stdout",
     "output_type": "stream",
     "text": [
      "469/469 [==============================] - 20s 42ms/step - loss: 2.2224 - accuracy: 0.1955 - val_loss: 2.1962 - val_accuracy: 0.2733\n",
      "Epoch 49/200\n",
      "464/469 [============================>.] - ETA: 0s - loss: 2.2200 - accuracy: 0.1970INFO:tensorflow:Assets written to: /var/folders/90/kskh3wbj04d1cp3_crkb9cgr0000gn/T/tmp39enej8_/model/data/model/assets\n"
     ]
    },
    {
     "name": "stderr",
     "output_type": "stream",
     "text": [
      "2022/05/30 00:29:06 WARNING mlflow.models.model: Logging model metadata to the tracking server has failed, possibly due older server version. The model artifacts have been logged successfully under file:data/mlflow-artifacts/0/3ed5405677b44432b57a94a9e58ced68/artifacts. In addition to exporting model artifacts, MLflow clients 1.7.0 and above attempt to record model metadata to the tracking store. If logging to a mlflow server via REST, consider upgrading the server version to MLflow 1.7.0 or above.\n"
     ]
    },
    {
     "name": "stdout",
     "output_type": "stream",
     "text": [
      "469/469 [==============================] - 18s 38ms/step - loss: 2.2198 - accuracy: 0.1974 - val_loss: 2.1931 - val_accuracy: 0.2778\n",
      "Epoch 50/200\n",
      "465/469 [============================>.] - ETA: 0s - loss: 2.2151 - accuracy: 0.2060INFO:tensorflow:Assets written to: /var/folders/90/kskh3wbj04d1cp3_crkb9cgr0000gn/T/tmphnzkvhrj/model/data/model/assets\n"
     ]
    },
    {
     "name": "stderr",
     "output_type": "stream",
     "text": [
      "2022/05/30 00:29:26 WARNING mlflow.models.model: Logging model metadata to the tracking server has failed, possibly due older server version. The model artifacts have been logged successfully under file:data/mlflow-artifacts/0/3ed5405677b44432b57a94a9e58ced68/artifacts. In addition to exporting model artifacts, MLflow clients 1.7.0 and above attempt to record model metadata to the tracking store. If logging to a mlflow server via REST, consider upgrading the server version to MLflow 1.7.0 or above.\n"
     ]
    },
    {
     "name": "stdout",
     "output_type": "stream",
     "text": [
      "469/469 [==============================] - 20s 43ms/step - loss: 2.2151 - accuracy: 0.2060 - val_loss: 2.1901 - val_accuracy: 0.2826\n",
      "Epoch 51/200\n",
      "467/469 [============================>.] - ETA: 0s - loss: 2.2136 - accuracy: 0.2065INFO:tensorflow:Assets written to: /var/folders/90/kskh3wbj04d1cp3_crkb9cgr0000gn/T/tmpcz1s0oj2/model/data/model/assets\n"
     ]
    },
    {
     "ename": "KeyboardInterrupt",
     "evalue": "",
     "output_type": "error",
     "traceback": [
      "\u001b[0;31m---------------------------------------------------------------------------\u001b[0m",
      "\u001b[0;31mKeyboardInterrupt\u001b[0m                         Traceback (most recent call last)",
      "\u001b[0;32m/var/folders/90/kskh3wbj04d1cp3_crkb9cgr0000gn/T/ipykernel_31505/970341307.py\u001b[0m in \u001b[0;36m<module>\u001b[0;34m\u001b[0m\n\u001b[1;32m     27\u001b[0m         \u001b[0mverbose\u001b[0m\u001b[0;34m=\u001b[0m\u001b[0;36m1\u001b[0m\u001b[0;34m,\u001b[0m\u001b[0;34m\u001b[0m\u001b[0;34m\u001b[0m\u001b[0m\n\u001b[1;32m     28\u001b[0m         \u001b[0mvalidation_data\u001b[0m\u001b[0;34m=\u001b[0m\u001b[0;34m(\u001b[0m\u001b[0mx_test\u001b[0m\u001b[0;34m,\u001b[0m \u001b[0my_test\u001b[0m\u001b[0;34m)\u001b[0m\u001b[0;34m,\u001b[0m\u001b[0;34m\u001b[0m\u001b[0;34m\u001b[0m\u001b[0m\n\u001b[0;32m---> 29\u001b[0;31m         \u001b[0mcallbacks\u001b[0m\u001b[0;34m=\u001b[0m\u001b[0;34m[\u001b[0m\u001b[0mmodel_checkpoint_callback\u001b[0m\u001b[0;34m]\u001b[0m\u001b[0;34m,\u001b[0m\u001b[0;34m\u001b[0m\u001b[0;34m\u001b[0m\u001b[0m\n\u001b[0m\u001b[1;32m     30\u001b[0m     )\n",
      "\u001b[0;32m~/.anyenv/envs/pyenv/versions/3.7.13/lib/python3.7/site-packages/mlflow/utils/autologging_utils/safety.py\u001b[0m in \u001b[0;36msafe_patch_function\u001b[0;34m(*args, **kwargs)\u001b[0m\n\u001b[1;32m    553\u001b[0m \u001b[0;34m\u001b[0m\u001b[0m\n\u001b[1;32m    554\u001b[0m                     \u001b[0;32mif\u001b[0m \u001b[0mpatch_is_class\u001b[0m\u001b[0;34m:\u001b[0m\u001b[0;34m\u001b[0m\u001b[0;34m\u001b[0m\u001b[0m\n\u001b[0;32m--> 555\u001b[0;31m                         \u001b[0mpatch_function\u001b[0m\u001b[0;34m.\u001b[0m\u001b[0mcall\u001b[0m\u001b[0;34m(\u001b[0m\u001b[0mcall_original\u001b[0m\u001b[0;34m,\u001b[0m \u001b[0;34m*\u001b[0m\u001b[0margs\u001b[0m\u001b[0;34m,\u001b[0m \u001b[0;34m**\u001b[0m\u001b[0mkwargs\u001b[0m\u001b[0;34m)\u001b[0m\u001b[0;34m\u001b[0m\u001b[0;34m\u001b[0m\u001b[0m\n\u001b[0m\u001b[1;32m    556\u001b[0m                     \u001b[0;32melse\u001b[0m\u001b[0;34m:\u001b[0m\u001b[0;34m\u001b[0m\u001b[0;34m\u001b[0m\u001b[0m\n\u001b[1;32m    557\u001b[0m                         \u001b[0mpatch_function\u001b[0m\u001b[0;34m(\u001b[0m\u001b[0mcall_original\u001b[0m\u001b[0;34m,\u001b[0m \u001b[0;34m*\u001b[0m\u001b[0margs\u001b[0m\u001b[0;34m,\u001b[0m \u001b[0;34m**\u001b[0m\u001b[0mkwargs\u001b[0m\u001b[0;34m)\u001b[0m\u001b[0;34m\u001b[0m\u001b[0;34m\u001b[0m\u001b[0m\n",
      "\u001b[0;32m~/.anyenv/envs/pyenv/versions/3.7.13/lib/python3.7/site-packages/mlflow/utils/autologging_utils/safety.py\u001b[0m in \u001b[0;36mcall\u001b[0;34m(cls, original, *args, **kwargs)\u001b[0m\n\u001b[1;32m    168\u001b[0m     \u001b[0;34m@\u001b[0m\u001b[0mclassmethod\u001b[0m\u001b[0;34m\u001b[0m\u001b[0;34m\u001b[0m\u001b[0m\n\u001b[1;32m    169\u001b[0m     \u001b[0;32mdef\u001b[0m \u001b[0mcall\u001b[0m\u001b[0;34m(\u001b[0m\u001b[0mcls\u001b[0m\u001b[0;34m,\u001b[0m \u001b[0moriginal\u001b[0m\u001b[0;34m,\u001b[0m \u001b[0;34m*\u001b[0m\u001b[0margs\u001b[0m\u001b[0;34m,\u001b[0m \u001b[0;34m**\u001b[0m\u001b[0mkwargs\u001b[0m\u001b[0;34m)\u001b[0m\u001b[0;34m:\u001b[0m\u001b[0;34m\u001b[0m\u001b[0;34m\u001b[0m\u001b[0m\n\u001b[0;32m--> 170\u001b[0;31m         \u001b[0;32mreturn\u001b[0m \u001b[0mcls\u001b[0m\u001b[0;34m(\u001b[0m\u001b[0;34m)\u001b[0m\u001b[0;34m.\u001b[0m\u001b[0m__call__\u001b[0m\u001b[0;34m(\u001b[0m\u001b[0moriginal\u001b[0m\u001b[0;34m,\u001b[0m \u001b[0;34m*\u001b[0m\u001b[0margs\u001b[0m\u001b[0;34m,\u001b[0m \u001b[0;34m**\u001b[0m\u001b[0mkwargs\u001b[0m\u001b[0;34m)\u001b[0m\u001b[0;34m\u001b[0m\u001b[0;34m\u001b[0m\u001b[0m\n\u001b[0m\u001b[1;32m    171\u001b[0m \u001b[0;34m\u001b[0m\u001b[0m\n\u001b[1;32m    172\u001b[0m     \u001b[0;32mdef\u001b[0m \u001b[0m__call__\u001b[0m\u001b[0;34m(\u001b[0m\u001b[0mself\u001b[0m\u001b[0;34m,\u001b[0m \u001b[0moriginal\u001b[0m\u001b[0;34m,\u001b[0m \u001b[0;34m*\u001b[0m\u001b[0margs\u001b[0m\u001b[0;34m,\u001b[0m \u001b[0;34m**\u001b[0m\u001b[0mkwargs\u001b[0m\u001b[0;34m)\u001b[0m\u001b[0;34m:\u001b[0m\u001b[0;34m\u001b[0m\u001b[0;34m\u001b[0m\u001b[0m\n",
      "\u001b[0;32m~/.anyenv/envs/pyenv/versions/3.7.13/lib/python3.7/site-packages/mlflow/utils/autologging_utils/safety.py\u001b[0m in \u001b[0;36m__call__\u001b[0;34m(self, original, *args, **kwargs)\u001b[0m\n\u001b[1;32m    179\u001b[0m                 \u001b[0;31m# Regardless of what happens during the `_on_exception` callback, reraise\u001b[0m\u001b[0;34m\u001b[0m\u001b[0;34m\u001b[0m\u001b[0;34m\u001b[0m\u001b[0m\n\u001b[1;32m    180\u001b[0m                 \u001b[0;31m# the original implementation exception once the callback completes\u001b[0m\u001b[0;34m\u001b[0m\u001b[0;34m\u001b[0m\u001b[0;34m\u001b[0m\u001b[0m\n\u001b[0;32m--> 181\u001b[0;31m                 \u001b[0;32mraise\u001b[0m \u001b[0me\u001b[0m\u001b[0;34m\u001b[0m\u001b[0;34m\u001b[0m\u001b[0m\n\u001b[0m\u001b[1;32m    182\u001b[0m \u001b[0;34m\u001b[0m\u001b[0m\n\u001b[1;32m    183\u001b[0m \u001b[0;34m\u001b[0m\u001b[0m\n",
      "\u001b[0;32m~/.anyenv/envs/pyenv/versions/3.7.13/lib/python3.7/site-packages/mlflow/utils/autologging_utils/safety.py\u001b[0m in \u001b[0;36m__call__\u001b[0;34m(self, original, *args, **kwargs)\u001b[0m\n\u001b[1;32m    172\u001b[0m     \u001b[0;32mdef\u001b[0m \u001b[0m__call__\u001b[0m\u001b[0;34m(\u001b[0m\u001b[0mself\u001b[0m\u001b[0;34m,\u001b[0m \u001b[0moriginal\u001b[0m\u001b[0;34m,\u001b[0m \u001b[0;34m*\u001b[0m\u001b[0margs\u001b[0m\u001b[0;34m,\u001b[0m \u001b[0;34m**\u001b[0m\u001b[0mkwargs\u001b[0m\u001b[0;34m)\u001b[0m\u001b[0;34m:\u001b[0m\u001b[0;34m\u001b[0m\u001b[0;34m\u001b[0m\u001b[0m\n\u001b[1;32m    173\u001b[0m         \u001b[0;32mtry\u001b[0m\u001b[0;34m:\u001b[0m\u001b[0;34m\u001b[0m\u001b[0;34m\u001b[0m\u001b[0m\n\u001b[0;32m--> 174\u001b[0;31m             \u001b[0;32mreturn\u001b[0m \u001b[0mself\u001b[0m\u001b[0;34m.\u001b[0m\u001b[0m_patch_implementation\u001b[0m\u001b[0;34m(\u001b[0m\u001b[0moriginal\u001b[0m\u001b[0;34m,\u001b[0m \u001b[0;34m*\u001b[0m\u001b[0margs\u001b[0m\u001b[0;34m,\u001b[0m \u001b[0;34m**\u001b[0m\u001b[0mkwargs\u001b[0m\u001b[0;34m)\u001b[0m\u001b[0;34m\u001b[0m\u001b[0;34m\u001b[0m\u001b[0m\n\u001b[0m\u001b[1;32m    175\u001b[0m         \u001b[0;32mexcept\u001b[0m \u001b[0;34m(\u001b[0m\u001b[0mException\u001b[0m\u001b[0;34m,\u001b[0m \u001b[0mKeyboardInterrupt\u001b[0m\u001b[0;34m)\u001b[0m \u001b[0;32mas\u001b[0m \u001b[0me\u001b[0m\u001b[0;34m:\u001b[0m\u001b[0;34m\u001b[0m\u001b[0;34m\u001b[0m\u001b[0m\n\u001b[1;32m    176\u001b[0m             \u001b[0;32mtry\u001b[0m\u001b[0;34m:\u001b[0m\u001b[0;34m\u001b[0m\u001b[0;34m\u001b[0m\u001b[0m\n",
      "\u001b[0;32m~/.anyenv/envs/pyenv/versions/3.7.13/lib/python3.7/site-packages/mlflow/utils/autologging_utils/safety.py\u001b[0m in \u001b[0;36m_patch_implementation\u001b[0;34m(self, original, *args, **kwargs)\u001b[0m\n\u001b[1;32m    231\u001b[0m \u001b[0;34m\u001b[0m\u001b[0m\n\u001b[1;32m    232\u001b[0m                 result = super(PatchWithManagedRun, self)._patch_implementation(\n\u001b[0;32m--> 233\u001b[0;31m                     \u001b[0moriginal\u001b[0m\u001b[0;34m,\u001b[0m \u001b[0;34m*\u001b[0m\u001b[0margs\u001b[0m\u001b[0;34m,\u001b[0m \u001b[0;34m**\u001b[0m\u001b[0mkwargs\u001b[0m\u001b[0;34m\u001b[0m\u001b[0;34m\u001b[0m\u001b[0m\n\u001b[0m\u001b[1;32m    234\u001b[0m                 )\n\u001b[1;32m    235\u001b[0m \u001b[0;34m\u001b[0m\u001b[0m\n",
      "\u001b[0;32m~/.anyenv/envs/pyenv/versions/3.7.13/lib/python3.7/site-packages/mlflow/tensorflow/__init__.py\u001b[0m in \u001b[0;36m_patch_implementation\u001b[0;34m(self, original, inst, *args, **kwargs)\u001b[0m\n\u001b[1;32m   1097\u001b[0m                 \u001b[0m_log_early_stop_callback_params\u001b[0m\u001b[0;34m(\u001b[0m\u001b[0mearly_stop_callback\u001b[0m\u001b[0;34m)\u001b[0m\u001b[0;34m\u001b[0m\u001b[0;34m\u001b[0m\u001b[0m\n\u001b[1;32m   1098\u001b[0m \u001b[0;34m\u001b[0m\u001b[0m\n\u001b[0;32m-> 1099\u001b[0;31m                 \u001b[0mhistory\u001b[0m \u001b[0;34m=\u001b[0m \u001b[0moriginal\u001b[0m\u001b[0;34m(\u001b[0m\u001b[0minst\u001b[0m\u001b[0;34m,\u001b[0m \u001b[0;34m*\u001b[0m\u001b[0margs\u001b[0m\u001b[0;34m,\u001b[0m \u001b[0;34m**\u001b[0m\u001b[0mkwargs\u001b[0m\u001b[0;34m)\u001b[0m\u001b[0;34m\u001b[0m\u001b[0;34m\u001b[0m\u001b[0m\n\u001b[0m\u001b[1;32m   1100\u001b[0m \u001b[0;34m\u001b[0m\u001b[0m\n\u001b[1;32m   1101\u001b[0m                 \u001b[0;32mif\u001b[0m \u001b[0mlog_models\u001b[0m\u001b[0;34m:\u001b[0m\u001b[0;34m\u001b[0m\u001b[0;34m\u001b[0m\u001b[0m\n",
      "\u001b[0;32m~/.anyenv/envs/pyenv/versions/3.7.13/lib/python3.7/site-packages/mlflow/utils/autologging_utils/safety.py\u001b[0m in \u001b[0;36mcall_original\u001b[0;34m(*og_args, **og_kwargs)\u001b[0m\n\u001b[1;32m    536\u001b[0m                                 \u001b[0;32mreturn\u001b[0m \u001b[0moriginal_result\u001b[0m\u001b[0;34m\u001b[0m\u001b[0;34m\u001b[0m\u001b[0m\n\u001b[1;32m    537\u001b[0m \u001b[0;34m\u001b[0m\u001b[0m\n\u001b[0;32m--> 538\u001b[0;31m                         \u001b[0;32mreturn\u001b[0m \u001b[0mcall_original_fn_with_event_logging\u001b[0m\u001b[0;34m(\u001b[0m\u001b[0m_original_fn\u001b[0m\u001b[0;34m,\u001b[0m \u001b[0mog_args\u001b[0m\u001b[0;34m,\u001b[0m \u001b[0mog_kwargs\u001b[0m\u001b[0;34m)\u001b[0m\u001b[0;34m\u001b[0m\u001b[0;34m\u001b[0m\u001b[0m\n\u001b[0m\u001b[1;32m    539\u001b[0m \u001b[0;34m\u001b[0m\u001b[0m\n\u001b[1;32m    540\u001b[0m                     \u001b[0;31m# Apply the name, docstring, and signature of `original` to `call_original`.\u001b[0m\u001b[0;34m\u001b[0m\u001b[0;34m\u001b[0m\u001b[0;34m\u001b[0m\u001b[0m\n",
      "\u001b[0;32m~/.anyenv/envs/pyenv/versions/3.7.13/lib/python3.7/site-packages/mlflow/utils/autologging_utils/safety.py\u001b[0m in \u001b[0;36mcall_original_fn_with_event_logging\u001b[0;34m(original_fn, og_args, og_kwargs)\u001b[0m\n\u001b[1;32m    471\u001b[0m                         \u001b[0mog_kwargs\u001b[0m\u001b[0;34m,\u001b[0m\u001b[0;34m\u001b[0m\u001b[0;34m\u001b[0m\u001b[0m\n\u001b[1;32m    472\u001b[0m                     )\n\u001b[0;32m--> 473\u001b[0;31m                     \u001b[0moriginal_fn_result\u001b[0m \u001b[0;34m=\u001b[0m \u001b[0moriginal_fn\u001b[0m\u001b[0;34m(\u001b[0m\u001b[0;34m*\u001b[0m\u001b[0mog_args\u001b[0m\u001b[0;34m,\u001b[0m \u001b[0;34m**\u001b[0m\u001b[0mog_kwargs\u001b[0m\u001b[0;34m)\u001b[0m\u001b[0;34m\u001b[0m\u001b[0;34m\u001b[0m\u001b[0m\n\u001b[0m\u001b[1;32m    474\u001b[0m \u001b[0;34m\u001b[0m\u001b[0m\n\u001b[1;32m    475\u001b[0m                     try_log_autologging_event(\n",
      "\u001b[0;32m~/.anyenv/envs/pyenv/versions/3.7.13/lib/python3.7/site-packages/mlflow/utils/autologging_utils/safety.py\u001b[0m in \u001b[0;36m_original_fn\u001b[0;34m(*_og_args, **_og_kwargs)\u001b[0m\n\u001b[1;32m    533\u001b[0m                                 \u001b[0mreroute_warnings\u001b[0m\u001b[0;34m=\u001b[0m\u001b[0;32mFalse\u001b[0m\u001b[0;34m,\u001b[0m\u001b[0;34m\u001b[0m\u001b[0;34m\u001b[0m\u001b[0m\n\u001b[1;32m    534\u001b[0m                             ):\n\u001b[0;32m--> 535\u001b[0;31m                                 \u001b[0moriginal_result\u001b[0m \u001b[0;34m=\u001b[0m \u001b[0moriginal\u001b[0m\u001b[0;34m(\u001b[0m\u001b[0;34m*\u001b[0m\u001b[0m_og_args\u001b[0m\u001b[0;34m,\u001b[0m \u001b[0;34m**\u001b[0m\u001b[0m_og_kwargs\u001b[0m\u001b[0;34m)\u001b[0m\u001b[0;34m\u001b[0m\u001b[0;34m\u001b[0m\u001b[0m\n\u001b[0m\u001b[1;32m    536\u001b[0m                                 \u001b[0;32mreturn\u001b[0m \u001b[0moriginal_result\u001b[0m\u001b[0;34m\u001b[0m\u001b[0;34m\u001b[0m\u001b[0m\n\u001b[1;32m    537\u001b[0m \u001b[0;34m\u001b[0m\u001b[0m\n",
      "\u001b[0;32m~/.anyenv/envs/pyenv/versions/3.7.13/lib/python3.7/site-packages/keras/utils/traceback_utils.py\u001b[0m in \u001b[0;36merror_handler\u001b[0;34m(*args, **kwargs)\u001b[0m\n\u001b[1;32m     62\u001b[0m     \u001b[0mfiltered_tb\u001b[0m \u001b[0;34m=\u001b[0m \u001b[0;32mNone\u001b[0m\u001b[0;34m\u001b[0m\u001b[0;34m\u001b[0m\u001b[0m\n\u001b[1;32m     63\u001b[0m     \u001b[0;32mtry\u001b[0m\u001b[0;34m:\u001b[0m\u001b[0;34m\u001b[0m\u001b[0;34m\u001b[0m\u001b[0m\n\u001b[0;32m---> 64\u001b[0;31m       \u001b[0;32mreturn\u001b[0m \u001b[0mfn\u001b[0m\u001b[0;34m(\u001b[0m\u001b[0;34m*\u001b[0m\u001b[0margs\u001b[0m\u001b[0;34m,\u001b[0m \u001b[0;34m**\u001b[0m\u001b[0mkwargs\u001b[0m\u001b[0;34m)\u001b[0m\u001b[0;34m\u001b[0m\u001b[0;34m\u001b[0m\u001b[0m\n\u001b[0m\u001b[1;32m     65\u001b[0m     \u001b[0;32mexcept\u001b[0m \u001b[0mException\u001b[0m \u001b[0;32mas\u001b[0m \u001b[0me\u001b[0m\u001b[0;34m:\u001b[0m  \u001b[0;31m# pylint: disable=broad-except\u001b[0m\u001b[0;34m\u001b[0m\u001b[0;34m\u001b[0m\u001b[0m\n\u001b[1;32m     66\u001b[0m       \u001b[0mfiltered_tb\u001b[0m \u001b[0;34m=\u001b[0m \u001b[0m_process_traceback_frames\u001b[0m\u001b[0;34m(\u001b[0m\u001b[0me\u001b[0m\u001b[0;34m.\u001b[0m\u001b[0m__traceback__\u001b[0m\u001b[0;34m)\u001b[0m\u001b[0;34m\u001b[0m\u001b[0;34m\u001b[0m\u001b[0m\n",
      "\u001b[0;32m~/.anyenv/envs/pyenv/versions/3.7.13/lib/python3.7/site-packages/keras/engine/training.py\u001b[0m in \u001b[0;36mfit\u001b[0;34m(self, x, y, batch_size, epochs, verbose, callbacks, validation_split, validation_data, shuffle, class_weight, sample_weight, initial_epoch, steps_per_epoch, validation_steps, validation_batch_size, validation_freq, max_queue_size, workers, use_multiprocessing)\u001b[0m\n\u001b[1;32m   1458\u001b[0m           \u001b[0mepoch_logs\u001b[0m\u001b[0;34m.\u001b[0m\u001b[0mupdate\u001b[0m\u001b[0;34m(\u001b[0m\u001b[0mval_logs\u001b[0m\u001b[0;34m)\u001b[0m\u001b[0;34m\u001b[0m\u001b[0;34m\u001b[0m\u001b[0m\n\u001b[1;32m   1459\u001b[0m \u001b[0;34m\u001b[0m\u001b[0m\n\u001b[0;32m-> 1460\u001b[0;31m         \u001b[0mcallbacks\u001b[0m\u001b[0;34m.\u001b[0m\u001b[0mon_epoch_end\u001b[0m\u001b[0;34m(\u001b[0m\u001b[0mepoch\u001b[0m\u001b[0;34m,\u001b[0m \u001b[0mepoch_logs\u001b[0m\u001b[0;34m)\u001b[0m\u001b[0;34m\u001b[0m\u001b[0;34m\u001b[0m\u001b[0m\n\u001b[0m\u001b[1;32m   1461\u001b[0m         \u001b[0mtraining_logs\u001b[0m \u001b[0;34m=\u001b[0m \u001b[0mepoch_logs\u001b[0m\u001b[0;34m\u001b[0m\u001b[0;34m\u001b[0m\u001b[0m\n\u001b[1;32m   1462\u001b[0m         \u001b[0;32mif\u001b[0m \u001b[0mself\u001b[0m\u001b[0;34m.\u001b[0m\u001b[0mstop_training\u001b[0m\u001b[0;34m:\u001b[0m\u001b[0;34m\u001b[0m\u001b[0;34m\u001b[0m\u001b[0m\n",
      "\u001b[0;32m~/.anyenv/envs/pyenv/versions/3.7.13/lib/python3.7/site-packages/keras/callbacks.py\u001b[0m in \u001b[0;36mon_epoch_end\u001b[0;34m(self, epoch, logs)\u001b[0m\n\u001b[1;32m    414\u001b[0m     \u001b[0mlogs\u001b[0m \u001b[0;34m=\u001b[0m \u001b[0mself\u001b[0m\u001b[0;34m.\u001b[0m\u001b[0m_process_logs\u001b[0m\u001b[0;34m(\u001b[0m\u001b[0mlogs\u001b[0m\u001b[0;34m)\u001b[0m\u001b[0;34m\u001b[0m\u001b[0;34m\u001b[0m\u001b[0m\n\u001b[1;32m    415\u001b[0m     \u001b[0;32mfor\u001b[0m \u001b[0mcallback\u001b[0m \u001b[0;32min\u001b[0m \u001b[0mself\u001b[0m\u001b[0;34m.\u001b[0m\u001b[0mcallbacks\u001b[0m\u001b[0;34m:\u001b[0m\u001b[0;34m\u001b[0m\u001b[0;34m\u001b[0m\u001b[0m\n\u001b[0;32m--> 416\u001b[0;31m       \u001b[0mcallback\u001b[0m\u001b[0;34m.\u001b[0m\u001b[0mon_epoch_end\u001b[0m\u001b[0;34m(\u001b[0m\u001b[0mepoch\u001b[0m\u001b[0;34m,\u001b[0m \u001b[0mlogs\u001b[0m\u001b[0;34m)\u001b[0m\u001b[0;34m\u001b[0m\u001b[0;34m\u001b[0m\u001b[0m\n\u001b[0m\u001b[1;32m    417\u001b[0m \u001b[0;34m\u001b[0m\u001b[0m\n\u001b[1;32m    418\u001b[0m   \u001b[0;32mdef\u001b[0m \u001b[0mon_train_batch_begin\u001b[0m\u001b[0;34m(\u001b[0m\u001b[0mself\u001b[0m\u001b[0;34m,\u001b[0m \u001b[0mbatch\u001b[0m\u001b[0;34m,\u001b[0m \u001b[0mlogs\u001b[0m\u001b[0;34m=\u001b[0m\u001b[0;32mNone\u001b[0m\u001b[0;34m)\u001b[0m\u001b[0;34m:\u001b[0m\u001b[0;34m\u001b[0m\u001b[0;34m\u001b[0m\u001b[0m\n",
      "\u001b[0;32m~/.anyenv/envs/pyenv/versions/3.7.13/lib/python3.7/site-packages/keras/callbacks.py\u001b[0m in \u001b[0;36mon_epoch_end\u001b[0;34m(self, epoch, logs)\u001b[0m\n\u001b[1;32m   1387\u001b[0m     \u001b[0;31m# pylint: disable=protected-access\u001b[0m\u001b[0;34m\u001b[0m\u001b[0;34m\u001b[0m\u001b[0;34m\u001b[0m\u001b[0m\n\u001b[1;32m   1388\u001b[0m     \u001b[0;32mif\u001b[0m \u001b[0mself\u001b[0m\u001b[0;34m.\u001b[0m\u001b[0msave_freq\u001b[0m \u001b[0;34m==\u001b[0m \u001b[0;34m'epoch'\u001b[0m\u001b[0;34m:\u001b[0m\u001b[0;34m\u001b[0m\u001b[0;34m\u001b[0m\u001b[0m\n\u001b[0;32m-> 1389\u001b[0;31m       \u001b[0mself\u001b[0m\u001b[0;34m.\u001b[0m\u001b[0m_save_model\u001b[0m\u001b[0;34m(\u001b[0m\u001b[0mepoch\u001b[0m\u001b[0;34m=\u001b[0m\u001b[0mepoch\u001b[0m\u001b[0;34m,\u001b[0m \u001b[0mbatch\u001b[0m\u001b[0;34m=\u001b[0m\u001b[0;32mNone\u001b[0m\u001b[0;34m,\u001b[0m \u001b[0mlogs\u001b[0m\u001b[0;34m=\u001b[0m\u001b[0mlogs\u001b[0m\u001b[0;34m)\u001b[0m\u001b[0;34m\u001b[0m\u001b[0;34m\u001b[0m\u001b[0m\n\u001b[0m\u001b[1;32m   1390\u001b[0m \u001b[0;34m\u001b[0m\u001b[0m\n\u001b[1;32m   1391\u001b[0m   \u001b[0;32mdef\u001b[0m \u001b[0m_should_save_on_batch\u001b[0m\u001b[0;34m(\u001b[0m\u001b[0mself\u001b[0m\u001b[0;34m,\u001b[0m \u001b[0mbatch\u001b[0m\u001b[0;34m)\u001b[0m\u001b[0;34m:\u001b[0m\u001b[0;34m\u001b[0m\u001b[0;34m\u001b[0m\u001b[0m\n",
      "\u001b[0;32m/var/folders/90/kskh3wbj04d1cp3_crkb9cgr0000gn/T/ipykernel_31505/255683383.py\u001b[0m in \u001b[0;36m_save_model\u001b[0;34m(self, epoch, batch, logs)\u001b[0m\n\u001b[1;32m      8\u001b[0m     \u001b[0;32mdef\u001b[0m \u001b[0m_save_model\u001b[0m\u001b[0;34m(\u001b[0m\u001b[0mself\u001b[0m\u001b[0;34m,\u001b[0m \u001b[0mepoch\u001b[0m\u001b[0;34m,\u001b[0m \u001b[0mbatch\u001b[0m\u001b[0;34m,\u001b[0m \u001b[0mlogs\u001b[0m\u001b[0;34m)\u001b[0m\u001b[0;34m:\u001b[0m\u001b[0;34m\u001b[0m\u001b[0;34m\u001b[0m\u001b[0m\n\u001b[1;32m      9\u001b[0m         \u001b[0msuper\u001b[0m\u001b[0;34m(\u001b[0m\u001b[0;34m)\u001b[0m\u001b[0;34m.\u001b[0m\u001b[0m_save_model\u001b[0m\u001b[0;34m(\u001b[0m\u001b[0mepoch\u001b[0m\u001b[0;34m,\u001b[0m \u001b[0mbatch\u001b[0m\u001b[0;34m,\u001b[0m \u001b[0mlogs\u001b[0m\u001b[0;34m)\u001b[0m\u001b[0;34m\u001b[0m\u001b[0;34m\u001b[0m\u001b[0m\n\u001b[0;32m---> 10\u001b[0;31m         \u001b[0mmlflow\u001b[0m\u001b[0;34m.\u001b[0m\u001b[0mkeras\u001b[0m\u001b[0;34m.\u001b[0m\u001b[0mlog_model\u001b[0m\u001b[0;34m(\u001b[0m\u001b[0mself\u001b[0m\u001b[0;34m.\u001b[0m\u001b[0mmodel\u001b[0m\u001b[0;34m,\u001b[0m \u001b[0mself\u001b[0m\u001b[0;34m.\u001b[0m\u001b[0martifact_name\u001b[0m\u001b[0;34m)\u001b[0m\u001b[0;34m\u001b[0m\u001b[0;34m\u001b[0m\u001b[0m\n\u001b[0m\u001b[1;32m     11\u001b[0m \u001b[0;34m\u001b[0m\u001b[0m\n\u001b[1;32m     12\u001b[0m model_checkpoint_callback = MlFlowModelCheckpoint(\n",
      "\u001b[0;32m~/.anyenv/envs/pyenv/versions/3.7.13/lib/python3.7/site-packages/mlflow/keras.py\u001b[0m in \u001b[0;36mlog_model\u001b[0;34m(keras_model, artifact_path, conda_env, code_paths, custom_objects, keras_module, registered_model_name, signature, input_example, await_registration_for, pip_requirements, extra_pip_requirements, **kwargs)\u001b[0m\n\u001b[1;32m    428\u001b[0m         \u001b[0mpip_requirements\u001b[0m\u001b[0;34m=\u001b[0m\u001b[0mpip_requirements\u001b[0m\u001b[0;34m,\u001b[0m\u001b[0;34m\u001b[0m\u001b[0;34m\u001b[0m\u001b[0m\n\u001b[1;32m    429\u001b[0m         \u001b[0mextra_pip_requirements\u001b[0m\u001b[0;34m=\u001b[0m\u001b[0mextra_pip_requirements\u001b[0m\u001b[0;34m,\u001b[0m\u001b[0;34m\u001b[0m\u001b[0;34m\u001b[0m\u001b[0m\n\u001b[0;32m--> 430\u001b[0;31m         \u001b[0;34m**\u001b[0m\u001b[0mkwargs\u001b[0m\u001b[0;34m,\u001b[0m\u001b[0;34m\u001b[0m\u001b[0;34m\u001b[0m\u001b[0m\n\u001b[0m\u001b[1;32m    431\u001b[0m     )\n\u001b[1;32m    432\u001b[0m \u001b[0;34m\u001b[0m\u001b[0m\n",
      "\u001b[0;32m~/.anyenv/envs/pyenv/versions/3.7.13/lib/python3.7/site-packages/mlflow/models/model.py\u001b[0m in \u001b[0;36mlog\u001b[0;34m(cls, artifact_path, flavor, registered_model_name, await_registration_for, **kwargs)\u001b[0m\n\u001b[1;32m    292\u001b[0m             \u001b[0mrun_id\u001b[0m \u001b[0;34m=\u001b[0m \u001b[0mmlflow\u001b[0m\u001b[0;34m.\u001b[0m\u001b[0mtracking\u001b[0m\u001b[0;34m.\u001b[0m\u001b[0mfluent\u001b[0m\u001b[0;34m.\u001b[0m\u001b[0m_get_or_start_run\u001b[0m\u001b[0;34m(\u001b[0m\u001b[0;34m)\u001b[0m\u001b[0;34m.\u001b[0m\u001b[0minfo\u001b[0m\u001b[0;34m.\u001b[0m\u001b[0mrun_id\u001b[0m\u001b[0;34m\u001b[0m\u001b[0;34m\u001b[0m\u001b[0m\n\u001b[1;32m    293\u001b[0m             \u001b[0mmlflow_model\u001b[0m \u001b[0;34m=\u001b[0m \u001b[0mcls\u001b[0m\u001b[0;34m(\u001b[0m\u001b[0martifact_path\u001b[0m\u001b[0;34m=\u001b[0m\u001b[0martifact_path\u001b[0m\u001b[0;34m,\u001b[0m \u001b[0mrun_id\u001b[0m\u001b[0;34m=\u001b[0m\u001b[0mrun_id\u001b[0m\u001b[0;34m)\u001b[0m\u001b[0;34m\u001b[0m\u001b[0;34m\u001b[0m\u001b[0m\n\u001b[0;32m--> 294\u001b[0;31m             \u001b[0mflavor\u001b[0m\u001b[0;34m.\u001b[0m\u001b[0msave_model\u001b[0m\u001b[0;34m(\u001b[0m\u001b[0mpath\u001b[0m\u001b[0;34m=\u001b[0m\u001b[0mlocal_path\u001b[0m\u001b[0;34m,\u001b[0m \u001b[0mmlflow_model\u001b[0m\u001b[0;34m=\u001b[0m\u001b[0mmlflow_model\u001b[0m\u001b[0;34m,\u001b[0m \u001b[0;34m**\u001b[0m\u001b[0mkwargs\u001b[0m\u001b[0;34m)\u001b[0m\u001b[0;34m\u001b[0m\u001b[0;34m\u001b[0m\u001b[0m\n\u001b[0m\u001b[1;32m    295\u001b[0m             \u001b[0mmlflow\u001b[0m\u001b[0;34m.\u001b[0m\u001b[0mtracking\u001b[0m\u001b[0;34m.\u001b[0m\u001b[0mfluent\u001b[0m\u001b[0;34m.\u001b[0m\u001b[0mlog_artifacts\u001b[0m\u001b[0;34m(\u001b[0m\u001b[0mlocal_path\u001b[0m\u001b[0;34m,\u001b[0m \u001b[0martifact_path\u001b[0m\u001b[0;34m)\u001b[0m\u001b[0;34m\u001b[0m\u001b[0;34m\u001b[0m\u001b[0m\n\u001b[1;32m    296\u001b[0m             \u001b[0;32mtry\u001b[0m\u001b[0;34m:\u001b[0m\u001b[0;34m\u001b[0m\u001b[0;34m\u001b[0m\u001b[0m\n",
      "\u001b[0;32m~/.anyenv/envs/pyenv/versions/3.7.13/lib/python3.7/site-packages/mlflow/keras.py\u001b[0m in \u001b[0;36msave_model\u001b[0;34m(keras_model, path, conda_env, code_paths, mlflow_model, custom_objects, keras_module, signature, input_example, pip_requirements, extra_pip_requirements, **kwargs)\u001b[0m\n\u001b[1;32m    297\u001b[0m             \u001b[0;31m# inference, `mlflow_model.save` must be called beforehand to save an MLmodel file.\u001b[0m\u001b[0;34m\u001b[0m\u001b[0;34m\u001b[0m\u001b[0;34m\u001b[0m\u001b[0m\n\u001b[1;32m    298\u001b[0m             inferred_reqs = mlflow.models.infer_pip_requirements(\n\u001b[0;32m--> 299\u001b[0;31m                 \u001b[0mpath\u001b[0m\u001b[0;34m,\u001b[0m \u001b[0mFLAVOR_NAME\u001b[0m\u001b[0;34m,\u001b[0m \u001b[0mfallback\u001b[0m\u001b[0;34m=\u001b[0m\u001b[0mdefault_reqs\u001b[0m\u001b[0;34m\u001b[0m\u001b[0;34m\u001b[0m\u001b[0m\n\u001b[0m\u001b[1;32m    300\u001b[0m             )\n\u001b[1;32m    301\u001b[0m             \u001b[0mdefault_reqs\u001b[0m \u001b[0;34m=\u001b[0m \u001b[0msorted\u001b[0m\u001b[0;34m(\u001b[0m\u001b[0mset\u001b[0m\u001b[0;34m(\u001b[0m\u001b[0minferred_reqs\u001b[0m\u001b[0;34m)\u001b[0m\u001b[0;34m.\u001b[0m\u001b[0munion\u001b[0m\u001b[0;34m(\u001b[0m\u001b[0mdefault_reqs\u001b[0m\u001b[0;34m)\u001b[0m\u001b[0;34m)\u001b[0m\u001b[0;34m\u001b[0m\u001b[0;34m\u001b[0m\u001b[0m\n",
      "\u001b[0;32m~/.anyenv/envs/pyenv/versions/3.7.13/lib/python3.7/site-packages/mlflow/utils/environment.py\u001b[0m in \u001b[0;36minfer_pip_requirements\u001b[0;34m(model_uri, flavor, fallback)\u001b[0m\n\u001b[1;32m    376\u001b[0m     \"\"\"\n\u001b[1;32m    377\u001b[0m     \u001b[0;32mtry\u001b[0m\u001b[0;34m:\u001b[0m\u001b[0;34m\u001b[0m\u001b[0;34m\u001b[0m\u001b[0m\n\u001b[0;32m--> 378\u001b[0;31m         \u001b[0;32mreturn\u001b[0m \u001b[0m_infer_requirements\u001b[0m\u001b[0;34m(\u001b[0m\u001b[0mmodel_uri\u001b[0m\u001b[0;34m,\u001b[0m \u001b[0mflavor\u001b[0m\u001b[0;34m)\u001b[0m\u001b[0;34m\u001b[0m\u001b[0;34m\u001b[0m\u001b[0m\n\u001b[0m\u001b[1;32m    379\u001b[0m     \u001b[0;32mexcept\u001b[0m \u001b[0mException\u001b[0m\u001b[0;34m:\u001b[0m\u001b[0;34m\u001b[0m\u001b[0;34m\u001b[0m\u001b[0m\n\u001b[1;32m    380\u001b[0m         \u001b[0;32mif\u001b[0m \u001b[0mfallback\u001b[0m \u001b[0;32mis\u001b[0m \u001b[0;32mnot\u001b[0m \u001b[0;32mNone\u001b[0m\u001b[0;34m:\u001b[0m\u001b[0;34m\u001b[0m\u001b[0;34m\u001b[0m\u001b[0m\n",
      "\u001b[0;32m~/.anyenv/envs/pyenv/versions/3.7.13/lib/python3.7/site-packages/mlflow/utils/requirements_utils.py\u001b[0m in \u001b[0;36m_infer_requirements\u001b[0;34m(model_uri, flavor)\u001b[0m\n\u001b[1;32m    343\u001b[0m         \u001b[0m_PYPI_PACKAGE_INDEX\u001b[0m \u001b[0;34m=\u001b[0m \u001b[0m_load_pypi_package_index\u001b[0m\u001b[0;34m(\u001b[0m\u001b[0;34m)\u001b[0m\u001b[0;34m\u001b[0m\u001b[0;34m\u001b[0m\u001b[0m\n\u001b[1;32m    344\u001b[0m \u001b[0;34m\u001b[0m\u001b[0m\n\u001b[0;32m--> 345\u001b[0;31m     \u001b[0mmodules\u001b[0m \u001b[0;34m=\u001b[0m \u001b[0m_capture_imported_modules\u001b[0m\u001b[0;34m(\u001b[0m\u001b[0mmodel_uri\u001b[0m\u001b[0;34m,\u001b[0m \u001b[0mflavor\u001b[0m\u001b[0;34m)\u001b[0m\u001b[0;34m\u001b[0m\u001b[0;34m\u001b[0m\u001b[0m\n\u001b[0m\u001b[1;32m    346\u001b[0m     \u001b[0mpackages\u001b[0m \u001b[0;34m=\u001b[0m \u001b[0m_flatten\u001b[0m\u001b[0;34m(\u001b[0m\u001b[0;34m[\u001b[0m\u001b[0m_MODULES_TO_PACKAGES\u001b[0m\u001b[0;34m.\u001b[0m\u001b[0mget\u001b[0m\u001b[0;34m(\u001b[0m\u001b[0mmodule\u001b[0m\u001b[0;34m,\u001b[0m \u001b[0;34m[\u001b[0m\u001b[0;34m]\u001b[0m\u001b[0;34m)\u001b[0m \u001b[0;32mfor\u001b[0m \u001b[0mmodule\u001b[0m \u001b[0;32min\u001b[0m \u001b[0mmodules\u001b[0m\u001b[0;34m]\u001b[0m\u001b[0;34m)\u001b[0m\u001b[0;34m\u001b[0m\u001b[0;34m\u001b[0m\u001b[0m\n\u001b[1;32m    347\u001b[0m     \u001b[0mpackages\u001b[0m \u001b[0;34m=\u001b[0m \u001b[0mmap\u001b[0m\u001b[0;34m(\u001b[0m\u001b[0m_normalize_package_name\u001b[0m\u001b[0;34m,\u001b[0m \u001b[0mpackages\u001b[0m\u001b[0;34m)\u001b[0m\u001b[0;34m\u001b[0m\u001b[0;34m\u001b[0m\u001b[0m\n",
      "\u001b[0;32m~/.anyenv/envs/pyenv/versions/3.7.13/lib/python3.7/site-packages/mlflow/utils/requirements_utils.py\u001b[0m in \u001b[0;36m_capture_imported_modules\u001b[0;34m(model_uri, flavor)\u001b[0m\n\u001b[1;32m    275\u001b[0m                 \u001b[0moutput_file\u001b[0m\u001b[0;34m,\u001b[0m\u001b[0;34m\u001b[0m\u001b[0;34m\u001b[0m\u001b[0m\n\u001b[1;32m    276\u001b[0m                 \u001b[0;34m\"--sys-path\"\u001b[0m\u001b[0;34m,\u001b[0m\u001b[0;34m\u001b[0m\u001b[0;34m\u001b[0m\u001b[0m\n\u001b[0;32m--> 277\u001b[0;31m                 \u001b[0mjson\u001b[0m\u001b[0;34m.\u001b[0m\u001b[0mdumps\u001b[0m\u001b[0;34m(\u001b[0m\u001b[0msys\u001b[0m\u001b[0;34m.\u001b[0m\u001b[0mpath\u001b[0m\u001b[0;34m)\u001b[0m\u001b[0;34m,\u001b[0m\u001b[0;34m\u001b[0m\u001b[0;34m\u001b[0m\u001b[0m\n\u001b[0m\u001b[1;32m    278\u001b[0m             ],\n\u001b[1;32m    279\u001b[0m         )\n",
      "\u001b[0;32m~/.anyenv/envs/pyenv/versions/3.7.13/lib/python3.7/site-packages/mlflow/utils/requirements_utils.py\u001b[0m in \u001b[0;36m_run_command\u001b[0;34m(cmd)\u001b[0m\n\u001b[1;32m    204\u001b[0m     \"\"\"\n\u001b[1;32m    205\u001b[0m     \u001b[0mproc\u001b[0m \u001b[0;34m=\u001b[0m \u001b[0msubprocess\u001b[0m\u001b[0;34m.\u001b[0m\u001b[0mPopen\u001b[0m\u001b[0;34m(\u001b[0m\u001b[0mcmd\u001b[0m\u001b[0;34m,\u001b[0m \u001b[0mstdout\u001b[0m\u001b[0;34m=\u001b[0m\u001b[0msubprocess\u001b[0m\u001b[0;34m.\u001b[0m\u001b[0mPIPE\u001b[0m\u001b[0;34m,\u001b[0m \u001b[0mstderr\u001b[0m\u001b[0;34m=\u001b[0m\u001b[0msubprocess\u001b[0m\u001b[0;34m.\u001b[0m\u001b[0mPIPE\u001b[0m\u001b[0;34m)\u001b[0m\u001b[0;34m\u001b[0m\u001b[0;34m\u001b[0m\u001b[0m\n\u001b[0;32m--> 206\u001b[0;31m     \u001b[0mstdout\u001b[0m\u001b[0;34m,\u001b[0m \u001b[0mstderr\u001b[0m \u001b[0;34m=\u001b[0m \u001b[0mproc\u001b[0m\u001b[0;34m.\u001b[0m\u001b[0mcommunicate\u001b[0m\u001b[0;34m(\u001b[0m\u001b[0;34m)\u001b[0m\u001b[0;34m\u001b[0m\u001b[0;34m\u001b[0m\u001b[0m\n\u001b[0m\u001b[1;32m    207\u001b[0m     \u001b[0mstdout\u001b[0m \u001b[0;34m=\u001b[0m \u001b[0mstdout\u001b[0m\u001b[0;34m.\u001b[0m\u001b[0mdecode\u001b[0m\u001b[0;34m(\u001b[0m\u001b[0;34m\"utf-8\"\u001b[0m\u001b[0;34m)\u001b[0m\u001b[0;34m\u001b[0m\u001b[0;34m\u001b[0m\u001b[0m\n\u001b[1;32m    208\u001b[0m     \u001b[0mstderr\u001b[0m \u001b[0;34m=\u001b[0m \u001b[0mstderr\u001b[0m\u001b[0;34m.\u001b[0m\u001b[0mdecode\u001b[0m\u001b[0;34m(\u001b[0m\u001b[0;34m\"utf-8\"\u001b[0m\u001b[0;34m)\u001b[0m\u001b[0;34m\u001b[0m\u001b[0;34m\u001b[0m\u001b[0m\n",
      "\u001b[0;32m~/.anyenv/envs/pyenv/versions/3.7.13/lib/python3.7/subprocess.py\u001b[0m in \u001b[0;36mcommunicate\u001b[0;34m(self, input, timeout)\u001b[0m\n\u001b[1;32m    962\u001b[0m \u001b[0;34m\u001b[0m\u001b[0m\n\u001b[1;32m    963\u001b[0m             \u001b[0;32mtry\u001b[0m\u001b[0;34m:\u001b[0m\u001b[0;34m\u001b[0m\u001b[0;34m\u001b[0m\u001b[0m\n\u001b[0;32m--> 964\u001b[0;31m                 \u001b[0mstdout\u001b[0m\u001b[0;34m,\u001b[0m \u001b[0mstderr\u001b[0m \u001b[0;34m=\u001b[0m \u001b[0mself\u001b[0m\u001b[0;34m.\u001b[0m\u001b[0m_communicate\u001b[0m\u001b[0;34m(\u001b[0m\u001b[0minput\u001b[0m\u001b[0;34m,\u001b[0m \u001b[0mendtime\u001b[0m\u001b[0;34m,\u001b[0m \u001b[0mtimeout\u001b[0m\u001b[0;34m)\u001b[0m\u001b[0;34m\u001b[0m\u001b[0;34m\u001b[0m\u001b[0m\n\u001b[0m\u001b[1;32m    965\u001b[0m             \u001b[0;32mexcept\u001b[0m \u001b[0mKeyboardInterrupt\u001b[0m\u001b[0;34m:\u001b[0m\u001b[0;34m\u001b[0m\u001b[0;34m\u001b[0m\u001b[0m\n\u001b[1;32m    966\u001b[0m                 \u001b[0;31m# https://bugs.python.org/issue25942\u001b[0m\u001b[0;34m\u001b[0m\u001b[0;34m\u001b[0m\u001b[0;34m\u001b[0m\u001b[0m\n",
      "\u001b[0;32m~/.anyenv/envs/pyenv/versions/3.7.13/lib/python3.7/subprocess.py\u001b[0m in \u001b[0;36m_communicate\u001b[0;34m(self, input, endtime, orig_timeout)\u001b[0m\n\u001b[1;32m   1713\u001b[0m                             'failed to raise TimeoutExpired.')\n\u001b[1;32m   1714\u001b[0m \u001b[0;34m\u001b[0m\u001b[0m\n\u001b[0;32m-> 1715\u001b[0;31m                     \u001b[0mready\u001b[0m \u001b[0;34m=\u001b[0m \u001b[0mselector\u001b[0m\u001b[0;34m.\u001b[0m\u001b[0mselect\u001b[0m\u001b[0;34m(\u001b[0m\u001b[0mtimeout\u001b[0m\u001b[0;34m)\u001b[0m\u001b[0;34m\u001b[0m\u001b[0;34m\u001b[0m\u001b[0m\n\u001b[0m\u001b[1;32m   1716\u001b[0m                     \u001b[0mself\u001b[0m\u001b[0;34m.\u001b[0m\u001b[0m_check_timeout\u001b[0m\u001b[0;34m(\u001b[0m\u001b[0mendtime\u001b[0m\u001b[0;34m,\u001b[0m \u001b[0morig_timeout\u001b[0m\u001b[0;34m,\u001b[0m \u001b[0mstdout\u001b[0m\u001b[0;34m,\u001b[0m \u001b[0mstderr\u001b[0m\u001b[0;34m)\u001b[0m\u001b[0;34m\u001b[0m\u001b[0;34m\u001b[0m\u001b[0m\n\u001b[1;32m   1717\u001b[0m \u001b[0;34m\u001b[0m\u001b[0m\n",
      "\u001b[0;32m~/.anyenv/envs/pyenv/versions/3.7.13/lib/python3.7/selectors.py\u001b[0m in \u001b[0;36mselect\u001b[0;34m(self, timeout)\u001b[0m\n\u001b[1;32m    413\u001b[0m         \u001b[0mready\u001b[0m \u001b[0;34m=\u001b[0m \u001b[0;34m[\u001b[0m\u001b[0;34m]\u001b[0m\u001b[0;34m\u001b[0m\u001b[0;34m\u001b[0m\u001b[0m\n\u001b[1;32m    414\u001b[0m         \u001b[0;32mtry\u001b[0m\u001b[0;34m:\u001b[0m\u001b[0;34m\u001b[0m\u001b[0;34m\u001b[0m\u001b[0m\n\u001b[0;32m--> 415\u001b[0;31m             \u001b[0mfd_event_list\u001b[0m \u001b[0;34m=\u001b[0m \u001b[0mself\u001b[0m\u001b[0;34m.\u001b[0m\u001b[0m_selector\u001b[0m\u001b[0;34m.\u001b[0m\u001b[0mpoll\u001b[0m\u001b[0;34m(\u001b[0m\u001b[0mtimeout\u001b[0m\u001b[0;34m)\u001b[0m\u001b[0;34m\u001b[0m\u001b[0;34m\u001b[0m\u001b[0m\n\u001b[0m\u001b[1;32m    416\u001b[0m         \u001b[0;32mexcept\u001b[0m \u001b[0mInterruptedError\u001b[0m\u001b[0;34m:\u001b[0m\u001b[0;34m\u001b[0m\u001b[0;34m\u001b[0m\u001b[0m\n\u001b[1;32m    417\u001b[0m             \u001b[0;32mreturn\u001b[0m \u001b[0mready\u001b[0m\u001b[0;34m\u001b[0m\u001b[0;34m\u001b[0m\u001b[0m\n",
      "\u001b[0;31mKeyboardInterrupt\u001b[0m: "
     ]
    }
   ],
   "source": [
    "def make_model():\n",
    "    model = Sequential()\n",
    "    model.add(Dense(512, activation='relu', input_shape=(784,)))\n",
    "    model.add(Dropout(0.2))\n",
    "    model.add(Dense(512, activation='relu'))\n",
    "    model.add(Dropout(0.2))\n",
    "    model.add(Dense(params['num_classes'], activation='softmax'))\n",
    "    return model\n",
    "\n",
    "with mlflow.start_run(run_name='mnist_keras_tutorial') as run:\n",
    "    mlflow.tensorflow.autolog(\n",
    "        every_n_iter=1\n",
    "    )\n",
    "    \n",
    "    model = make_model()\n",
    "    model.compile(loss='categorical_crossentropy',\n",
    "              optimizer=tf.keras.optimizers.SGD(\n",
    "                learning_rate=0.00001,\n",
    "              ),\n",
    "              metrics=['accuracy'])\n",
    "    \n",
    "    history = model.fit(\n",
    "        x_train,\n",
    "        y_train,\n",
    "        batch_size=params['batch_size'],\n",
    "        epochs=params['epochs'],\n",
    "        verbose=1,\n",
    "        validation_data=(x_test, y_test),\n",
    "        callbacks=[model_checkpoint_callback],\n",
    "    )"
   ]
  },
  {
   "cell_type": "code",
   "execution_count": null,
   "id": "a9e17467",
   "metadata": {},
   "outputs": [],
   "source": []
  }
 ],
 "metadata": {
  "kernelspec": {
   "display_name": "Python 3 (ipykernel)",
   "language": "python",
   "name": "python3"
  },
  "language_info": {
   "codemirror_mode": {
    "name": "ipython",
    "version": 3
   },
   "file_extension": ".py",
   "mimetype": "text/x-python",
   "name": "python",
   "nbconvert_exporter": "python",
   "pygments_lexer": "ipython3",
   "version": "3.7.13"
  }
 },
 "nbformat": 4,
 "nbformat_minor": 5
}
