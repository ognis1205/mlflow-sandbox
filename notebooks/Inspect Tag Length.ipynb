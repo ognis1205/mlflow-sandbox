{
 "cells": [
  {
   "cell_type": "markdown",
   "id": "ba80ca34",
   "metadata": {},
   "source": [
    "# Setup"
   ]
  },
  {
   "cell_type": "code",
   "execution_count": 1,
   "id": "67b65dcb",
   "metadata": {},
   "outputs": [],
   "source": [
    "import mlflow\n",
    "\n",
    "tracking_uri = 'http://localhost:5000'\n",
    "mlflow.set_tracking_uri(tracking_uri)"
   ]
  },
  {
   "cell_type": "code",
   "execution_count": 3,
   "id": "8fee188a",
   "metadata": {},
   "outputs": [
    {
     "data": {
      "text/plain": [
       "'http://localhost:5000'"
      ]
     },
     "execution_count": 3,
     "metadata": {},
     "output_type": "execute_result"
    }
   ],
   "source": [
    "mlflow.get_tracking_uri()"
   ]
  },
  {
   "cell_type": "code",
   "execution_count": 4,
   "id": "084c3bbd",
   "metadata": {},
   "outputs": [
    {
     "data": {
      "text/plain": [
       "'file:///tmp/artifacts/0/968a2f5890c447358e28e3439093bf2e/artifacts'"
      ]
     },
     "execution_count": 4,
     "metadata": {},
     "output_type": "execute_result"
    }
   ],
   "source": [
    "mlflow.get_artifact_uri()"
   ]
  },
  {
   "cell_type": "markdown",
   "id": "2d4d0d8d",
   "metadata": {},
   "source": [
    "# Record some data"
   ]
  },
  {
   "cell_type": "code",
   "execution_count": 6,
   "id": "98e08d15",
   "metadata": {},
   "outputs": [],
   "source": [
    "#mlflow.start_run()\n",
    "mlflow.log_param(key='foo', value='bar')\n",
    "mlflow.log_metric(key='logloss', value=0.5)\n",
    "\n",
    "import tempfile\n",
    "import pathlib\n",
    "\n",
    "with tempfile.TemporaryDirectory() as d:\n",
    "    filename = 'test-artifact'\n",
    "    artifact_path = pathlib.Path(d) / filename\n",
    "    with open(artifact_path, 'w') as fp:\n",
    "        print('Hello, World!', file=fp)\n",
    "    mlflow.log_artifact(artifact_path)\n",
    "mlflow.end_run()"
   ]
  },
  {
   "cell_type": "markdown",
   "id": "9f9de411",
   "metadata": {},
   "source": [
    "# Check Data"
   ]
  },
  {
   "cell_type": "code",
   "execution_count": 7,
   "id": "4bc9af64",
   "metadata": {},
   "outputs": [
    {
     "name": "stdout",
     "output_type": "stream",
     "text": [
      "Hello, World!\n"
     ]
    }
   ],
   "source": [
    "%%bash\n",
    "cat /tmp/artifacts/0/968a2f5890c447358e28e3439093bf2e/artifacts/test-artifact "
   ]
  },
  {
   "cell_type": "code",
   "execution_count": 9,
   "id": "fc9f54d2",
   "metadata": {},
   "outputs": [
    {
     "name": "stdout",
     "output_type": "stream",
     "text": [
      "0|Default|file:///tmp/artifacts/0|active\n"
     ]
    }
   ],
   "source": [
    "%%bash\n",
    "sqlite3 ../tracking.db 'SELECT * FROM experiments'"
   ]
  },
  {
   "cell_type": "code",
   "execution_count": 10,
   "id": "2c2cc361",
   "metadata": {},
   "outputs": [
    {
     "name": "stdout",
     "output_type": "stream",
     "text": [
      "968a2f5890c447358e28e3439093bf2e||UNKNOWN|||shin|FINISHED|1653823646329|1653823766337||active|file:///tmp/artifacts/0/968a2f5890c447358e28e3439093bf2e/artifacts|0\n"
     ]
    }
   ],
   "source": [
    "%%bash\n",
    "sqlite3 ../tracking.db 'SELECT * FROM runs'  "
   ]
  },
  {
   "cell_type": "code",
   "execution_count": null,
   "id": "0e9e73c0",
   "metadata": {},
   "outputs": [],
   "source": []
  }
 ],
 "metadata": {
  "kernelspec": {
   "display_name": "Python 3 (ipykernel)",
   "language": "python",
   "name": "python3"
  },
  "language_info": {
   "codemirror_mode": {
    "name": "ipython",
    "version": 3
   },
   "file_extension": ".py",
   "mimetype": "text/x-python",
   "name": "python",
   "nbconvert_exporter": "python",
   "pygments_lexer": "ipython3",
   "version": "3.7.13"
  }
 },
 "nbformat": 4,
 "nbformat_minor": 5
}
